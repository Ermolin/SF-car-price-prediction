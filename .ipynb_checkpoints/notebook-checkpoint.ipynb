{
 "cells": [
  {
   "cell_type": "code",
   "execution_count": 1,
   "metadata": {
    "execution": {
     "iopub.execute_input": "2021-07-25T16:36:04.055054Z",
     "iopub.status.busy": "2021-07-25T16:36:04.054381Z",
     "iopub.status.idle": "2021-07-25T16:36:05.371609Z",
     "shell.execute_reply": "2021-07-25T16:36:05.370853Z",
     "shell.execute_reply.started": "2021-07-25T16:13:07.092834Z"
    },
    "papermill": {
     "duration": 1.395511,
     "end_time": "2021-07-25T16:36:05.371784",
     "exception": false,
     "start_time": "2021-07-25T16:36:03.976273",
     "status": "completed"
    },
    "tags": []
   },
   "outputs": [],
   "source": [
    "import numpy as np  # linear algebra\n",
    "import pandas as pd  # data processing, CSV file I/O (e.g. pd.read_csv)\n",
    "import sys\n",
    "from sklearn.model_selection import train_test_split\n",
    "from sklearn.model_selection import KFold\n",
    "from tqdm.notebook import tqdm\n",
    "from catboost import CatBoostRegressor\n",
    "from sklearn.preprocessing import LabelEncoder\n",
    "import ipywidgets\n",
    "import re\n",
    "from datetime import datetime, date, time\n",
    "import matplotlib.pyplot as plt\n",
    "import seaborn as sns"
   ]
  },
  {
   "cell_type": "code",
   "execution_count": null,
   "metadata": {
    "papermill": {
     "duration": 0.062197,
     "end_time": "2021-07-25T16:36:05.497503",
     "exception": false,
     "start_time": "2021-07-25T16:36:05.435306",
     "status": "completed"
    },
    "tags": []
   },
   "outputs": [],
   "source": []
  },
  {
   "cell_type": "code",
   "execution_count": 2,
   "metadata": {
    "execution": {
     "iopub.execute_input": "2021-07-25T16:36:05.628579Z",
     "iopub.status.busy": "2021-07-25T16:36:05.627671Z",
     "iopub.status.idle": "2021-07-25T16:36:05.630733Z",
     "shell.execute_reply": "2021-07-25T16:36:05.630214Z",
     "shell.execute_reply.started": "2021-07-25T16:13:07.106233Z"
    },
    "papermill": {
     "duration": 0.070464,
     "end_time": "2021-07-25T16:36:05.630883",
     "exception": false,
     "start_time": "2021-07-25T16:36:05.560419",
     "status": "completed"
    },
    "tags": []
   },
   "outputs": [],
   "source": [
    "pd.set_option('display.max_columns', None)"
   ]
  },
  {
   "cell_type": "code",
   "execution_count": 3,
   "metadata": {
    "execution": {
     "iopub.execute_input": "2021-07-25T16:36:05.763848Z",
     "iopub.status.busy": "2021-07-25T16:36:05.763123Z",
     "iopub.status.idle": "2021-07-25T16:36:05.766486Z",
     "shell.execute_reply": "2021-07-25T16:36:05.767415Z",
     "shell.execute_reply.started": "2021-07-25T16:13:07.129284Z"
    },
    "papermill": {
     "duration": 0.073035,
     "end_time": "2021-07-25T16:36:05.767667",
     "exception": false,
     "start_time": "2021-07-25T16:36:05.694632",
     "status": "completed"
    },
    "tags": []
   },
   "outputs": [
    {
     "name": "stdout",
     "output_type": "stream",
     "text": [
      "Python       : 3.7.10 | packaged by conda-forge | (default, Feb 19 2021, 16:07:37) \n",
      "Numpy        : 1.19.5\n"
     ]
    }
   ],
   "source": [
    "print('Python       :', sys.version.split('\\n')[0])\n",
    "print('Numpy        :', np.__version__)"
   ]
  },
  {
   "cell_type": "code",
   "execution_count": 4,
   "metadata": {
    "execution": {
     "iopub.execute_input": "2021-07-25T16:36:05.907713Z",
     "iopub.status.busy": "2021-07-25T16:36:05.906625Z",
     "iopub.status.idle": "2021-07-25T16:36:08.369193Z",
     "shell.execute_reply": "2021-07-25T16:36:08.369706Z",
     "shell.execute_reply.started": "2021-07-25T16:13:07.143624Z"
    },
    "papermill": {
     "duration": 2.536979,
     "end_time": "2021-07-25T16:36:08.369912",
     "exception": false,
     "start_time": "2021-07-25T16:36:05.832933",
     "status": "completed"
    },
    "tags": []
   },
   "outputs": [],
   "source": [
    "# зафиксируем версию пакетов, чтобы эксперименты были воспроизводимы:\n",
    "!pip freeze > requirements.txt\n",
    "RANDOM_SEED = 40"
   ]
  },
  {
   "cell_type": "code",
   "execution_count": 5,
   "metadata": {
    "execution": {
     "iopub.execute_input": "2021-07-25T16:36:08.503190Z",
     "iopub.status.busy": "2021-07-25T16:36:08.502140Z",
     "iopub.status.idle": "2021-07-25T16:36:08.507024Z",
     "shell.execute_reply": "2021-07-25T16:36:08.507492Z",
     "shell.execute_reply.started": "2021-07-25T16:13:09.146789Z"
    },
    "papermill": {
     "duration": 0.07249,
     "end_time": "2021-07-25T16:36:08.507680",
     "exception": false,
     "start_time": "2021-07-25T16:36:08.435190",
     "status": "completed"
    },
    "tags": []
   },
   "outputs": [],
   "source": [
    "# метрика оценки качества из задания\n",
    "def mape(y_true, y_pred):\n",
    "    return np.mean(np.abs((y_pred-y_true)/y_true))"
   ]
  },
  {
   "cell_type": "code",
   "execution_count": 6,
   "metadata": {
    "execution": {
     "iopub.execute_input": "2021-07-25T16:36:08.639763Z",
     "iopub.status.busy": "2021-07-25T16:36:08.638733Z",
     "iopub.status.idle": "2021-07-25T16:36:08.643035Z",
     "shell.execute_reply": "2021-07-25T16:36:08.643498Z",
     "shell.execute_reply.started": "2021-07-25T16:13:09.157594Z"
    },
    "papermill": {
     "duration": 0.07218,
     "end_time": "2021-07-25T16:36:08.643670",
     "exception": false,
     "start_time": "2021-07-25T16:36:08.571490",
     "status": "completed"
    },
    "tags": []
   },
   "outputs": [],
   "source": [
    "VERSION = 16\n",
    "# подключил к ноутбуку внешний датасет\n",
    "DIR_TRAIN = '../input/parsing-all-moscow-auto-ru-09-09-2020/'\n",
    "DIR_TEST = '../input/sfdstcarpriceprediction/'\n",
    "VAL_SIZE = 0.20   # 20%"
   ]
  },
  {
   "cell_type": "markdown",
   "metadata": {
    "papermill": {
     "duration": 0.062548,
     "end_time": "2021-07-25T16:36:08.769704",
     "exception": false,
     "start_time": "2021-07-25T16:36:08.707156",
     "status": "completed"
    },
    "tags": []
   },
   "source": [
    "## Data. загрузка и предподготовка\n",
    "\n"
   ]
  },
  {
   "cell_type": "code",
   "execution_count": 7,
   "metadata": {
    "execution": {
     "iopub.execute_input": "2021-07-25T16:36:08.900241Z",
     "iopub.status.busy": "2021-07-25T16:36:08.899259Z",
     "iopub.status.idle": "2021-07-25T16:36:09.625497Z",
     "shell.execute_reply": "2021-07-25T16:36:09.626007Z",
     "shell.execute_reply.started": "2021-07-25T16:13:09.179084Z"
    },
    "papermill": {
     "duration": 0.792891,
     "end_time": "2021-07-25T16:36:09.626199",
     "exception": false,
     "start_time": "2021-07-25T16:36:08.833308",
     "status": "completed"
    },
    "tags": []
   },
   "outputs": [
    {
     "name": "stdout",
     "output_type": "stream",
     "text": [
      "parsing-all-moscow-auto-ru-09-09-2020  sfdstcarpriceprediction\r\n"
     ]
    }
   ],
   "source": [
    "!ls '../input'"
   ]
  },
  {
   "cell_type": "code",
   "execution_count": 8,
   "metadata": {
    "execution": {
     "iopub.execute_input": "2021-07-25T16:36:09.761736Z",
     "iopub.status.busy": "2021-07-25T16:36:09.760940Z",
     "iopub.status.idle": "2021-07-25T16:36:21.542836Z",
     "shell.execute_reply": "2021-07-25T16:36:21.543456Z",
     "shell.execute_reply.started": "2021-07-25T16:13:09.957584Z"
    },
    "papermill": {
     "duration": 11.852458,
     "end_time": "2021-07-25T16:36:21.543640",
     "exception": false,
     "start_time": "2021-07-25T16:36:09.691182",
     "status": "completed"
    },
    "tags": []
   },
   "outputs": [],
   "source": [
    "# датасет для обучения модели\n",
    "train = pd.read_csv(DIR_TRAIN+'all_auto_ru_09_09_2020.csv')\n",
    "test = pd.read_csv(DIR_TEST+'test.csv')\n",
    "sample_submission = pd.read_csv(DIR_TEST+'sample_submission.csv')"
   ]
  },
  {
   "cell_type": "code",
   "execution_count": 9,
   "metadata": {
    "execution": {
     "iopub.execute_input": "2021-07-25T16:36:21.675090Z",
     "iopub.status.busy": "2021-07-25T16:36:21.674409Z",
     "iopub.status.idle": "2021-07-25T16:36:21.754636Z",
     "shell.execute_reply": "2021-07-25T16:36:21.754107Z",
     "shell.execute_reply.started": "2021-07-25T16:13:17.185645Z"
    },
    "papermill": {
     "duration": 0.147295,
     "end_time": "2021-07-25T16:36:21.754782",
     "exception": false,
     "start_time": "2021-07-25T16:36:21.607487",
     "status": "completed"
    },
    "tags": []
   },
   "outputs": [
    {
     "data": {
      "text/html": [
       "<div>\n",
       "<style scoped>\n",
       "    .dataframe tbody tr th:only-of-type {\n",
       "        vertical-align: middle;\n",
       "    }\n",
       "\n",
       "    .dataframe tbody tr th {\n",
       "        vertical-align: top;\n",
       "    }\n",
       "\n",
       "    .dataframe thead th {\n",
       "        text-align: right;\n",
       "    }\n",
       "</style>\n",
       "<table border=\"1\" class=\"dataframe\">\n",
       "  <thead>\n",
       "    <tr style=\"text-align: right;\">\n",
       "      <th></th>\n",
       "      <th>bodyType</th>\n",
       "      <th>brand</th>\n",
       "      <th>color</th>\n",
       "      <th>fuelType</th>\n",
       "      <th>modelDate</th>\n",
       "      <th>name</th>\n",
       "      <th>numberOfDoors</th>\n",
       "      <th>productionDate</th>\n",
       "      <th>vehicleConfiguration</th>\n",
       "      <th>vehicleTransmission</th>\n",
       "      <th>engineDisplacement</th>\n",
       "      <th>enginePower</th>\n",
       "      <th>description</th>\n",
       "      <th>mileage</th>\n",
       "      <th>Комплектация</th>\n",
       "      <th>Привод</th>\n",
       "      <th>Руль</th>\n",
       "      <th>Состояние</th>\n",
       "      <th>Владельцы</th>\n",
       "      <th>ПТС</th>\n",
       "      <th>Таможня</th>\n",
       "      <th>Владение</th>\n",
       "      <th>price</th>\n",
       "      <th>start_date</th>\n",
       "      <th>hidden</th>\n",
       "      <th>model</th>\n",
       "    </tr>\n",
       "  </thead>\n",
       "  <tbody>\n",
       "    <tr>\n",
       "      <th>8772</th>\n",
       "      <td>Внедорожник 5 дв.</td>\n",
       "      <td>BMW</td>\n",
       "      <td>040001</td>\n",
       "      <td>бензин</td>\n",
       "      <td>2019.0</td>\n",
       "      <td>20i xDrive 2.0 AT (192 л.с.) 4WD</td>\n",
       "      <td>5.0</td>\n",
       "      <td>2020</td>\n",
       "      <td>ALLROAD_5_DOORS AUTOMATIC 20i</td>\n",
       "      <td>AUTOMATIC</td>\n",
       "      <td>20i</td>\n",
       "      <td>192.0</td>\n",
       "      <td>УСПЕЙТЕ ДО ПОВЫШЕНИЯ ЦЕН!\\n\\nПОКА ДРУГИЕ ДИКТУ...</td>\n",
       "      <td>0</td>\n",
       "      <td>{'id': '21661466', 'name': 'xDrive20i Advantag...</td>\n",
       "      <td>полный</td>\n",
       "      <td>LEFT</td>\n",
       "      <td>NaN</td>\n",
       "      <td>NaN</td>\n",
       "      <td>ORIGINAL</td>\n",
       "      <td>True</td>\n",
       "      <td>NaN</td>\n",
       "      <td>2695600.0</td>\n",
       "      <td>2020-08-11T12:54:26Z</td>\n",
       "      <td>NaN</td>\n",
       "      <td>X1</td>\n",
       "    </tr>\n",
       "    <tr>\n",
       "      <th>15841</th>\n",
       "      <td>Внедорожник 5 дв.</td>\n",
       "      <td>CHEVROLET</td>\n",
       "      <td>040001</td>\n",
       "      <td>бензин</td>\n",
       "      <td>1999.0</td>\n",
       "      <td>5.3 AT (299 л.с.) 4WD</td>\n",
       "      <td>5.0</td>\n",
       "      <td>2005</td>\n",
       "      <td>ALLROAD_5_DOORS AUTOMATIC 5.3</td>\n",
       "      <td>AUTOMATIC</td>\n",
       "      <td>5.3</td>\n",
       "      <td>299.0</td>\n",
       "      <td>NaN</td>\n",
       "      <td>392000</td>\n",
       "      <td>{'id': '0'}</td>\n",
       "      <td>полный</td>\n",
       "      <td>LEFT</td>\n",
       "      <td>NaN</td>\n",
       "      <td>3.0</td>\n",
       "      <td>ORIGINAL</td>\n",
       "      <td>True</td>\n",
       "      <td>NaN</td>\n",
       "      <td>500000.0</td>\n",
       "      <td>2020-08-30T10:48:49Z</td>\n",
       "      <td>NaN</td>\n",
       "      <td>TAHOE</td>\n",
       "    </tr>\n",
       "  </tbody>\n",
       "</table>\n",
       "</div>"
      ],
      "text/plain": [
       "                bodyType      brand   color fuelType  modelDate  \\\n",
       "8772   Внедорожник 5 дв.        BMW  040001   бензин     2019.0   \n",
       "15841  Внедорожник 5 дв.  CHEVROLET  040001   бензин     1999.0   \n",
       "\n",
       "                                   name  numberOfDoors  productionDate  \\\n",
       "8772   20i xDrive 2.0 AT (192 л.с.) 4WD            5.0            2020   \n",
       "15841             5.3 AT (299 л.с.) 4WD            5.0            2005   \n",
       "\n",
       "                vehicleConfiguration vehicleTransmission engineDisplacement  \\\n",
       "8772   ALLROAD_5_DOORS AUTOMATIC 20i           AUTOMATIC                20i   \n",
       "15841  ALLROAD_5_DOORS AUTOMATIC 5.3           AUTOMATIC                5.3   \n",
       "\n",
       "       enginePower                                        description  \\\n",
       "8772         192.0  УСПЕЙТЕ ДО ПОВЫШЕНИЯ ЦЕН!\\n\\nПОКА ДРУГИЕ ДИКТУ...   \n",
       "15841        299.0                                                NaN   \n",
       "\n",
       "       mileage                                       Комплектация  Привод  \\\n",
       "8772         0  {'id': '21661466', 'name': 'xDrive20i Advantag...  полный   \n",
       "15841   392000                                        {'id': '0'}  полный   \n",
       "\n",
       "       Руль  Состояние  Владельцы       ПТС  Таможня Владение      price  \\\n",
       "8772   LEFT        NaN        NaN  ORIGINAL     True      NaN  2695600.0   \n",
       "15841  LEFT        NaN        3.0  ORIGINAL     True      NaN   500000.0   \n",
       "\n",
       "                 start_date  hidden  model  \n",
       "8772   2020-08-11T12:54:26Z     NaN     X1  \n",
       "15841  2020-08-30T10:48:49Z     NaN  TAHOE  "
      ]
     },
     "metadata": {},
     "output_type": "display_data"
    },
    {
     "data": {
      "text/html": [
       "<div>\n",
       "<style scoped>\n",
       "    .dataframe tbody tr th:only-of-type {\n",
       "        vertical-align: middle;\n",
       "    }\n",
       "\n",
       "    .dataframe tbody tr th {\n",
       "        vertical-align: top;\n",
       "    }\n",
       "\n",
       "    .dataframe thead th {\n",
       "        text-align: right;\n",
       "    }\n",
       "</style>\n",
       "<table border=\"1\" class=\"dataframe\">\n",
       "  <thead>\n",
       "    <tr style=\"text-align: right;\">\n",
       "      <th></th>\n",
       "      <th>bodyType</th>\n",
       "      <th>brand</th>\n",
       "      <th>car_url</th>\n",
       "      <th>color</th>\n",
       "      <th>complectation_dict</th>\n",
       "      <th>description</th>\n",
       "      <th>engineDisplacement</th>\n",
       "      <th>enginePower</th>\n",
       "      <th>equipment_dict</th>\n",
       "      <th>fuelType</th>\n",
       "      <th>image</th>\n",
       "      <th>mileage</th>\n",
       "      <th>modelDate</th>\n",
       "      <th>model_info</th>\n",
       "      <th>model_name</th>\n",
       "      <th>name</th>\n",
       "      <th>numberOfDoors</th>\n",
       "      <th>parsing_unixtime</th>\n",
       "      <th>priceCurrency</th>\n",
       "      <th>productionDate</th>\n",
       "      <th>sell_id</th>\n",
       "      <th>super_gen</th>\n",
       "      <th>vehicleConfiguration</th>\n",
       "      <th>vehicleTransmission</th>\n",
       "      <th>vendor</th>\n",
       "      <th>Владельцы</th>\n",
       "      <th>Владение</th>\n",
       "      <th>ПТС</th>\n",
       "      <th>Привод</th>\n",
       "      <th>Руль</th>\n",
       "      <th>Состояние</th>\n",
       "      <th>Таможня</th>\n",
       "    </tr>\n",
       "  </thead>\n",
       "  <tbody>\n",
       "    <tr>\n",
       "      <th>7293</th>\n",
       "      <td>седан</td>\n",
       "      <td>VOLVO</td>\n",
       "      <td>https://auto.ru/cars/used/sale/volvo/s40/10893...</td>\n",
       "      <td>зелёный</td>\n",
       "      <td>NaN</td>\n",
       "      <td>Машина в отличном техническом состоянии , все ...</td>\n",
       "      <td>2.4 LTR</td>\n",
       "      <td>140 N12</td>\n",
       "      <td>NaN</td>\n",
       "      <td>бензин</td>\n",
       "      <td>https://autoru.naydex.net/ESooa9149/468b9eoMem...</td>\n",
       "      <td>120000</td>\n",
       "      <td>2007</td>\n",
       "      <td>{\"code\":\"S40\",\"name\":\"S40\",\"ru_name\":\"S40\",\"mo...</td>\n",
       "      <td>S40</td>\n",
       "      <td>2.4 AT (140 л.с.)</td>\n",
       "      <td>4</td>\n",
       "      <td>1603239224</td>\n",
       "      <td>RUB</td>\n",
       "      <td>2007</td>\n",
       "      <td>1089300908</td>\n",
       "      <td>{\"id\":\"2309967\",\"displacement\":2435,\"engine_ty...</td>\n",
       "      <td>SEDAN AUTOMATIC 2.4</td>\n",
       "      <td>автоматическая</td>\n",
       "      <td>EUROPEAN</td>\n",
       "      <td>3 или более</td>\n",
       "      <td>NaN</td>\n",
       "      <td>Оригинал</td>\n",
       "      <td>передний</td>\n",
       "      <td>Левый</td>\n",
       "      <td>Не требует ремонта</td>\n",
       "      <td>Растаможен</td>\n",
       "    </tr>\n",
       "    <tr>\n",
       "      <th>6377</th>\n",
       "      <td>седан</td>\n",
       "      <td>VOLVO</td>\n",
       "      <td>https://auto.ru/cars/used/sale/volvo/s80/11013...</td>\n",
       "      <td>серый</td>\n",
       "      <td>NaN</td>\n",
       "      <td>Машина на отличном ходу. Пробег родной.</td>\n",
       "      <td>2.5 LTR</td>\n",
       "      <td>210 N12</td>\n",
       "      <td>NaN</td>\n",
       "      <td>бензин</td>\n",
       "      <td>https://autoru.naydex.net/ESooa9149/468b9eoMem...</td>\n",
       "      <td>156000</td>\n",
       "      <td>2003</td>\n",
       "      <td>{\"code\":\"S80\",\"name\":\"S80\",\"ru_name\":\"S80\",\"mo...</td>\n",
       "      <td>S80</td>\n",
       "      <td>2.5 AT (210 л.с.)</td>\n",
       "      <td>4</td>\n",
       "      <td>1603235821</td>\n",
       "      <td>RUB</td>\n",
       "      <td>2005</td>\n",
       "      <td>1101308332</td>\n",
       "      <td>{\"id\":\"4602645\",\"displacement\":2521,\"engine_ty...</td>\n",
       "      <td>SEDAN AUTOMATIC 2.5</td>\n",
       "      <td>автоматическая</td>\n",
       "      <td>EUROPEAN</td>\n",
       "      <td>3 или более</td>\n",
       "      <td>NaN</td>\n",
       "      <td>Оригинал</td>\n",
       "      <td>передний</td>\n",
       "      <td>Левый</td>\n",
       "      <td>Не требует ремонта</td>\n",
       "      <td>Растаможен</td>\n",
       "    </tr>\n",
       "  </tbody>\n",
       "</table>\n",
       "</div>"
      ],
      "text/plain": [
       "     bodyType  brand                                            car_url  \\\n",
       "7293    седан  VOLVO  https://auto.ru/cars/used/sale/volvo/s40/10893...   \n",
       "6377    седан  VOLVO  https://auto.ru/cars/used/sale/volvo/s80/11013...   \n",
       "\n",
       "        color complectation_dict  \\\n",
       "7293  зелёный                NaN   \n",
       "6377    серый                NaN   \n",
       "\n",
       "                                            description engineDisplacement  \\\n",
       "7293  Машина в отличном техническом состоянии , все ...            2.4 LTR   \n",
       "6377           Машина на отличном ходу. Пробег родной.             2.5 LTR   \n",
       "\n",
       "     enginePower equipment_dict fuelType  \\\n",
       "7293     140 N12            NaN   бензин   \n",
       "6377     210 N12            NaN   бензин   \n",
       "\n",
       "                                                  image  mileage  modelDate  \\\n",
       "7293  https://autoru.naydex.net/ESooa9149/468b9eoMem...   120000       2007   \n",
       "6377  https://autoru.naydex.net/ESooa9149/468b9eoMem...   156000       2003   \n",
       "\n",
       "                                             model_info model_name  \\\n",
       "7293  {\"code\":\"S40\",\"name\":\"S40\",\"ru_name\":\"S40\",\"mo...        S40   \n",
       "6377  {\"code\":\"S80\",\"name\":\"S80\",\"ru_name\":\"S80\",\"mo...        S80   \n",
       "\n",
       "                   name  numberOfDoors  parsing_unixtime priceCurrency  \\\n",
       "7293  2.4 AT (140 л.с.)              4        1603239224           RUB   \n",
       "6377  2.5 AT (210 л.с.)              4        1603235821           RUB   \n",
       "\n",
       "      productionDate     sell_id  \\\n",
       "7293            2007  1089300908   \n",
       "6377            2005  1101308332   \n",
       "\n",
       "                                              super_gen vehicleConfiguration  \\\n",
       "7293  {\"id\":\"2309967\",\"displacement\":2435,\"engine_ty...  SEDAN AUTOMATIC 2.4   \n",
       "6377  {\"id\":\"4602645\",\"displacement\":2521,\"engine_ty...  SEDAN AUTOMATIC 2.5   \n",
       "\n",
       "     vehicleTransmission    vendor    Владельцы Владение       ПТС    Привод  \\\n",
       "7293      автоматическая  EUROPEAN  3 или более      NaN  Оригинал  передний   \n",
       "6377      автоматическая  EUROPEAN  3 или более      NaN  Оригинал  передний   \n",
       "\n",
       "       Руль           Состояние     Таможня  \n",
       "7293  Левый  Не требует ремонта  Растаможен  \n",
       "6377  Левый  Не требует ремонта  Растаможен  "
      ]
     },
     "metadata": {},
     "output_type": "display_data"
    }
   ],
   "source": [
    "display(train.sample(2))\n",
    "display(test.sample(2))"
   ]
  },
  {
   "cell_type": "code",
   "execution_count": 10,
   "metadata": {
    "execution": {
     "iopub.execute_input": "2021-07-25T16:36:21.894504Z",
     "iopub.status.busy": "2021-07-25T16:36:21.893793Z",
     "iopub.status.idle": "2021-07-25T16:36:21.897847Z",
     "shell.execute_reply": "2021-07-25T16:36:21.897317Z",
     "shell.execute_reply.started": "2021-07-25T16:13:17.259342Z"
    },
    "papermill": {
     "duration": 0.078311,
     "end_time": "2021-07-25T16:36:21.898008",
     "exception": false,
     "start_time": "2021-07-25T16:36:21.819697",
     "status": "completed"
    },
    "tags": []
   },
   "outputs": [],
   "source": [
    "# Введем признак разделения на тренировочную и тестовую выбороки - sample\n",
    "train['sample'] = 1\n",
    "test['sample'] = 0\n",
    "\n",
    "#   чистим данные и сводим к единому виду\n",
    "df_train = train\n",
    "df_test = test\n",
    "\n",
    "# display(df_test[0:2])\n",
    "# display(df_train[0:2])"
   ]
  },
  {
   "cell_type": "code",
   "execution_count": 11,
   "metadata": {
    "execution": {
     "iopub.execute_input": "2021-07-25T16:36:22.048089Z",
     "iopub.status.busy": "2021-07-25T16:36:22.047340Z",
     "iopub.status.idle": "2021-07-25T16:36:22.727132Z",
     "shell.execute_reply": "2021-07-25T16:36:22.727713Z",
     "shell.execute_reply.started": "2021-07-25T16:13:17.303683Z"
    },
    "papermill": {
     "duration": 0.765143,
     "end_time": "2021-07-25T16:36:22.727904",
     "exception": false,
     "start_time": "2021-07-25T16:36:21.962761",
     "status": "completed"
    },
    "tags": []
   },
   "outputs": [
    {
     "data": {
      "text/html": [
       "<div>\n",
       "<style scoped>\n",
       "    .dataframe tbody tr th:only-of-type {\n",
       "        vertical-align: middle;\n",
       "    }\n",
       "\n",
       "    .dataframe tbody tr th {\n",
       "        vertical-align: top;\n",
       "    }\n",
       "\n",
       "    .dataframe thead th {\n",
       "        text-align: right;\n",
       "    }\n",
       "</style>\n",
       "<table border=\"1\" class=\"dataframe\">\n",
       "  <thead>\n",
       "    <tr style=\"text-align: right;\">\n",
       "      <th></th>\n",
       "      <th>feature_train</th>\n",
       "      <th>type_train</th>\n",
       "      <th>sample_train</th>\n",
       "      <th># unique_train</th>\n",
       "      <th>&lt; - &gt;</th>\n",
       "      <th>feature_test</th>\n",
       "      <th>type_test</th>\n",
       "      <th>sample_test</th>\n",
       "      <th># unique_test</th>\n",
       "    </tr>\n",
       "  </thead>\n",
       "  <tbody>\n",
       "    <tr>\n",
       "      <th>0</th>\n",
       "      <td>bodyType</td>\n",
       "      <td>object</td>\n",
       "      <td>Седан</td>\n",
       "      <td>168.0</td>\n",
       "      <td>| - |</td>\n",
       "      <td>bodyType</td>\n",
       "      <td>object</td>\n",
       "      <td>лифтбек</td>\n",
       "      <td>24.0</td>\n",
       "    </tr>\n",
       "    <tr>\n",
       "      <th>1</th>\n",
       "      <td>brand</td>\n",
       "      <td>object</td>\n",
       "      <td>AUDI</td>\n",
       "      <td>36.0</td>\n",
       "      <td>| - |</td>\n",
       "      <td>brand</td>\n",
       "      <td>object</td>\n",
       "      <td>SKODA</td>\n",
       "      <td>12.0</td>\n",
       "    </tr>\n",
       "    <tr>\n",
       "      <th>2</th>\n",
       "      <td>color</td>\n",
       "      <td>object</td>\n",
       "      <td>EE1D19</td>\n",
       "      <td>16.0</td>\n",
       "      <td>| - |</td>\n",
       "      <td>color</td>\n",
       "      <td>object</td>\n",
       "      <td>чёрный</td>\n",
       "      <td>16.0</td>\n",
       "    </tr>\n",
       "    <tr>\n",
       "      <th>3</th>\n",
       "      <td>fuelType</td>\n",
       "      <td>object</td>\n",
       "      <td>бензин</td>\n",
       "      <td>6.0</td>\n",
       "      <td>| - |</td>\n",
       "      <td>fuelType</td>\n",
       "      <td>object</td>\n",
       "      <td>бензин</td>\n",
       "      <td>5.0</td>\n",
       "    </tr>\n",
       "    <tr>\n",
       "      <th>4</th>\n",
       "      <td>modelDate</td>\n",
       "      <td>float64</td>\n",
       "      <td>1982.0</td>\n",
       "      <td>78.0</td>\n",
       "      <td>| - |</td>\n",
       "      <td>modelDate</td>\n",
       "      <td>int64</td>\n",
       "      <td>2017</td>\n",
       "      <td>66.0</td>\n",
       "    </tr>\n",
       "    <tr>\n",
       "      <th>5</th>\n",
       "      <td>name</td>\n",
       "      <td>object</td>\n",
       "      <td>1.8 MT (90 л.с.)</td>\n",
       "      <td>4484.0</td>\n",
       "      <td>| - |</td>\n",
       "      <td>name</td>\n",
       "      <td>object</td>\n",
       "      <td>1.6 MT (110 л.с.)</td>\n",
       "      <td>2780.0</td>\n",
       "    </tr>\n",
       "    <tr>\n",
       "      <th>6</th>\n",
       "      <td>numberOfDoors</td>\n",
       "      <td>float64</td>\n",
       "      <td>4.0</td>\n",
       "      <td>5.0</td>\n",
       "      <td>| - |</td>\n",
       "      <td>numberOfDoors</td>\n",
       "      <td>int64</td>\n",
       "      <td>5</td>\n",
       "      <td>5.0</td>\n",
       "    </tr>\n",
       "    <tr>\n",
       "      <th>7</th>\n",
       "      <td>productionDate</td>\n",
       "      <td>int64</td>\n",
       "      <td>1986</td>\n",
       "      <td>80.0</td>\n",
       "      <td>| - |</td>\n",
       "      <td>productionDate</td>\n",
       "      <td>int64</td>\n",
       "      <td>2017</td>\n",
       "      <td>69.0</td>\n",
       "    </tr>\n",
       "    <tr>\n",
       "      <th>8</th>\n",
       "      <td>vehicleTransmission</td>\n",
       "      <td>object</td>\n",
       "      <td>MECHANICAL</td>\n",
       "      <td>4.0</td>\n",
       "      <td>| - |</td>\n",
       "      <td>vehicleTransmission</td>\n",
       "      <td>object</td>\n",
       "      <td>механическая</td>\n",
       "      <td>4.0</td>\n",
       "    </tr>\n",
       "    <tr>\n",
       "      <th>9</th>\n",
       "      <td>engineDisplacement</td>\n",
       "      <td>object</td>\n",
       "      <td>1.8</td>\n",
       "      <td>534.0</td>\n",
       "      <td>| - |</td>\n",
       "      <td>engineDisplacement</td>\n",
       "      <td>object</td>\n",
       "      <td>1.6 LTR</td>\n",
       "      <td>55.0</td>\n",
       "    </tr>\n",
       "    <tr>\n",
       "      <th>10</th>\n",
       "      <td>enginePower</td>\n",
       "      <td>float64</td>\n",
       "      <td>90.0</td>\n",
       "      <td>396.0</td>\n",
       "      <td>| - |</td>\n",
       "      <td>enginePower</td>\n",
       "      <td>object</td>\n",
       "      <td>110 N12</td>\n",
       "      <td>315.0</td>\n",
       "    </tr>\n",
       "    <tr>\n",
       "      <th>11</th>\n",
       "      <td>mileage</td>\n",
       "      <td>int64</td>\n",
       "      <td>173424</td>\n",
       "      <td>17403.0</td>\n",
       "      <td>| - |</td>\n",
       "      <td>mileage</td>\n",
       "      <td>int64</td>\n",
       "      <td>60563</td>\n",
       "      <td>11268.0</td>\n",
       "    </tr>\n",
       "    <tr>\n",
       "      <th>12</th>\n",
       "      <td>Привод</td>\n",
       "      <td>object</td>\n",
       "      <td>передний</td>\n",
       "      <td>3.0</td>\n",
       "      <td>| - |</td>\n",
       "      <td>Привод</td>\n",
       "      <td>object</td>\n",
       "      <td>передний</td>\n",
       "      <td>3.0</td>\n",
       "    </tr>\n",
       "    <tr>\n",
       "      <th>13</th>\n",
       "      <td>Руль</td>\n",
       "      <td>object</td>\n",
       "      <td>LEFT</td>\n",
       "      <td>2.0</td>\n",
       "      <td>| - |</td>\n",
       "      <td>Руль</td>\n",
       "      <td>object</td>\n",
       "      <td>Левый</td>\n",
       "      <td>2.0</td>\n",
       "    </tr>\n",
       "    <tr>\n",
       "      <th>14</th>\n",
       "      <td>Владельцы</td>\n",
       "      <td>float64</td>\n",
       "      <td>3.0</td>\n",
       "      <td>3.0</td>\n",
       "      <td>| - |</td>\n",
       "      <td>Владельцы</td>\n",
       "      <td>object</td>\n",
       "      <td>1 владелец</td>\n",
       "      <td>3.0</td>\n",
       "    </tr>\n",
       "    <tr>\n",
       "      <th>15</th>\n",
       "      <td>ПТС</td>\n",
       "      <td>object</td>\n",
       "      <td>ORIGINAL</td>\n",
       "      <td>2.0</td>\n",
       "      <td>| - |</td>\n",
       "      <td>ПТС</td>\n",
       "      <td>object</td>\n",
       "      <td>Оригинал</td>\n",
       "      <td>2.0</td>\n",
       "    </tr>\n",
       "    <tr>\n",
       "      <th>16</th>\n",
       "      <td>price</td>\n",
       "      <td>float64</td>\n",
       "      <td>60000.0</td>\n",
       "      <td>8168.0</td>\n",
       "      <td>| - |</td>\n",
       "      <td>NaN</td>\n",
       "      <td>NaN</td>\n",
       "      <td>NaN</td>\n",
       "      <td>NaN</td>\n",
       "    </tr>\n",
       "    <tr>\n",
       "      <th>17</th>\n",
       "      <td>start_date</td>\n",
       "      <td>object</td>\n",
       "      <td>2020-09-06T06:49:40Z</td>\n",
       "      <td>75680.0</td>\n",
       "      <td>| - |</td>\n",
       "      <td>NaN</td>\n",
       "      <td>NaN</td>\n",
       "      <td>NaN</td>\n",
       "      <td>NaN</td>\n",
       "    </tr>\n",
       "    <tr>\n",
       "      <th>18</th>\n",
       "      <td>model</td>\n",
       "      <td>object</td>\n",
       "      <td>100</td>\n",
       "      <td>1086.0</td>\n",
       "      <td>| - |</td>\n",
       "      <td>NaN</td>\n",
       "      <td>NaN</td>\n",
       "      <td>NaN</td>\n",
       "      <td>NaN</td>\n",
       "    </tr>\n",
       "    <tr>\n",
       "      <th>19</th>\n",
       "      <td>sample</td>\n",
       "      <td>int64</td>\n",
       "      <td>1</td>\n",
       "      <td>1.0</td>\n",
       "      <td>| - |</td>\n",
       "      <td>sample</td>\n",
       "      <td>int64</td>\n",
       "      <td>0</td>\n",
       "      <td>1.0</td>\n",
       "    </tr>\n",
       "    <tr>\n",
       "      <th>20</th>\n",
       "      <td>NaN</td>\n",
       "      <td>NaN</td>\n",
       "      <td>NaN</td>\n",
       "      <td>NaN</td>\n",
       "      <td>| - |</td>\n",
       "      <td>model_name</td>\n",
       "      <td>object</td>\n",
       "      <td>OCTAVIA</td>\n",
       "      <td>544.0</td>\n",
       "    </tr>\n",
       "  </tbody>\n",
       "</table>\n",
       "</div>"
      ],
      "text/plain": [
       "          feature_train type_train          sample_train  # unique_train  \\\n",
       "0              bodyType     object                 Седан           168.0   \n",
       "1                 brand     object                  AUDI            36.0   \n",
       "2                 color     object                EE1D19            16.0   \n",
       "3              fuelType     object                бензин             6.0   \n",
       "4             modelDate    float64                1982.0            78.0   \n",
       "5                  name     object      1.8 MT (90 л.с.)          4484.0   \n",
       "6         numberOfDoors    float64                   4.0             5.0   \n",
       "7        productionDate      int64                  1986            80.0   \n",
       "8   vehicleTransmission     object            MECHANICAL             4.0   \n",
       "9    engineDisplacement     object                   1.8           534.0   \n",
       "10          enginePower    float64                  90.0           396.0   \n",
       "11              mileage      int64                173424         17403.0   \n",
       "12               Привод     object              передний             3.0   \n",
       "13                 Руль     object                  LEFT             2.0   \n",
       "14            Владельцы    float64                   3.0             3.0   \n",
       "15                  ПТС     object              ORIGINAL             2.0   \n",
       "16                price    float64               60000.0          8168.0   \n",
       "17           start_date     object  2020-09-06T06:49:40Z         75680.0   \n",
       "18                model     object                   100          1086.0   \n",
       "19               sample      int64                     1             1.0   \n",
       "20                  NaN        NaN                   NaN             NaN   \n",
       "\n",
       "    < - >         feature_test type_test        sample_test  # unique_test  \n",
       "0   | - |             bodyType    object            лифтбек           24.0  \n",
       "1   | - |                brand    object              SKODA           12.0  \n",
       "2   | - |                color    object             чёрный           16.0  \n",
       "3   | - |             fuelType    object             бензин            5.0  \n",
       "4   | - |            modelDate     int64               2017           66.0  \n",
       "5   | - |                 name    object  1.6 MT (110 л.с.)         2780.0  \n",
       "6   | - |        numberOfDoors     int64                  5            5.0  \n",
       "7   | - |       productionDate     int64               2017           69.0  \n",
       "8   | - |  vehicleTransmission    object       механическая            4.0  \n",
       "9   | - |   engineDisplacement    object            1.6 LTR           55.0  \n",
       "10  | - |          enginePower    object            110 N12          315.0  \n",
       "11  | - |              mileage     int64              60563        11268.0  \n",
       "12  | - |               Привод    object           передний            3.0  \n",
       "13  | - |                 Руль    object              Левый            2.0  \n",
       "14  | - |            Владельцы    object         1 владелец            3.0  \n",
       "15  | - |                  ПТС    object           Оригинал            2.0  \n",
       "16  | - |                  NaN       NaN                NaN            NaN  \n",
       "17  | - |                  NaN       NaN                NaN            NaN  \n",
       "18  | - |                  NaN       NaN                NaN            NaN  \n",
       "19  | - |               sample     int64                  0            1.0  \n",
       "20  | - |           model_name    object            OCTAVIA          544.0  "
      ]
     },
     "metadata": {},
     "output_type": "display_data"
    },
    {
     "name": "stdout",
     "output_type": "stream",
     "text": [
      "Резюме:\n",
      " 1. Не совпали типы в:= 8 столбцах\n",
      "\n",
      "2. Уникальные значения различаются в:= 3 столбцах [0, 1, 9]\n"
     ]
    },
    {
     "data": {
      "text/html": [
       "<div>\n",
       "<style scoped>\n",
       "    .dataframe tbody tr th:only-of-type {\n",
       "        vertical-align: middle;\n",
       "    }\n",
       "\n",
       "    .dataframe tbody tr th {\n",
       "        vertical-align: top;\n",
       "    }\n",
       "\n",
       "    .dataframe thead th {\n",
       "        text-align: right;\n",
       "    }\n",
       "</style>\n",
       "<table border=\"1\" class=\"dataframe\">\n",
       "  <thead>\n",
       "    <tr style=\"text-align: right;\">\n",
       "      <th></th>\n",
       "      <th>feature_train</th>\n",
       "      <th>не совпадают типы</th>\n",
       "      <th>feature_test</th>\n",
       "    </tr>\n",
       "    <tr>\n",
       "      <th>index</th>\n",
       "      <th></th>\n",
       "      <th></th>\n",
       "      <th></th>\n",
       "    </tr>\n",
       "  </thead>\n",
       "  <tbody>\n",
       "    <tr>\n",
       "      <th>4</th>\n",
       "      <td>modelDate</td>\n",
       "      <td>float64 != int64</td>\n",
       "      <td>modelDate</td>\n",
       "    </tr>\n",
       "    <tr>\n",
       "      <th>6</th>\n",
       "      <td>numberOfDoors</td>\n",
       "      <td>float64 != int64</td>\n",
       "      <td>numberOfDoors</td>\n",
       "    </tr>\n",
       "    <tr>\n",
       "      <th>10</th>\n",
       "      <td>enginePower</td>\n",
       "      <td>float64 != object</td>\n",
       "      <td>enginePower</td>\n",
       "    </tr>\n",
       "    <tr>\n",
       "      <th>14</th>\n",
       "      <td>Владельцы</td>\n",
       "      <td>float64 != object</td>\n",
       "      <td>Владельцы</td>\n",
       "    </tr>\n",
       "    <tr>\n",
       "      <th>16</th>\n",
       "      <td>price</td>\n",
       "      <td>float64 != nan</td>\n",
       "      <td>NaN</td>\n",
       "    </tr>\n",
       "    <tr>\n",
       "      <th>17</th>\n",
       "      <td>start_date</td>\n",
       "      <td>object != nan</td>\n",
       "      <td>NaN</td>\n",
       "    </tr>\n",
       "    <tr>\n",
       "      <th>18</th>\n",
       "      <td>model</td>\n",
       "      <td>object != nan</td>\n",
       "      <td>NaN</td>\n",
       "    </tr>\n",
       "    <tr>\n",
       "      <th>20</th>\n",
       "      <td>NaN</td>\n",
       "      <td>nan != object</td>\n",
       "      <td>model_name</td>\n",
       "    </tr>\n",
       "  </tbody>\n",
       "</table>\n",
       "</div>"
      ],
      "text/plain": [
       "       feature_train  не совпадают типы   feature_test\n",
       "index                                                 \n",
       "4          modelDate   float64 != int64      modelDate\n",
       "6      numberOfDoors   float64 != int64  numberOfDoors\n",
       "10       enginePower  float64 != object    enginePower\n",
       "14         Владельцы  float64 != object      Владельцы\n",
       "16             price     float64 != nan            NaN\n",
       "17        start_date      object != nan            NaN\n",
       "18             model      object != nan            NaN\n",
       "20               NaN      nan != object     model_name"
      ]
     },
     "metadata": {},
     "output_type": "display_data"
    }
   ],
   "source": [
    "#  у участников найдена функция по сравнению дата-сетов. Немного преобразовал для удобства восприятия\n",
    "def check_df_before_merg(d_df1, d_df2):\n",
    "\n",
    "    list_of_names1 = list(d_df1.columns)\n",
    "    temp_dict = {}\n",
    "    temp_dict['feature_train'] = list_of_names1\n",
    "    temp_dict['type_train'] = d_df1.dtypes\n",
    "    temp_dict['sample_train'] = d_df1.loc[1].values\n",
    "    temp_dict['# unique_train'] = d_df1.nunique().values\n",
    "    temp_df1 = pd.DataFrame.from_dict(temp_dict)\n",
    "\n",
    "    list_of_names2 = list(d_df2.columns)\n",
    "    temp_dict2 = {}\n",
    "    temp_dict2['feature_test'] = list_of_names2\n",
    "    temp_dict2['type_test'] = d_df2.dtypes\n",
    "    temp_dict2['sample_test'] = d_df2.loc[1].values\n",
    "    temp_dict2['# unique_test'] = d_df2.nunique().values\n",
    "    temp_df2 = pd.DataFrame.from_dict(temp_dict2)\n",
    "\n",
    "    temp_insert = pd.DataFrame(columns=['< - >'])\n",
    "\n",
    "    temp_df = pd.concat([temp_df1, temp_insert, temp_df2], axis=1, sort=False)\n",
    "    temp_df.reset_index(inplace=True)\n",
    "    del temp_df['index']\n",
    "    temp_df['< - >'] = '| - |'\n",
    "    display(temp_df)\n",
    "\n",
    "    temp_dict3 = {}\n",
    "    temp_df3 = pd.DataFrame(temp_df)\n",
    "    temp_list = []\n",
    "    temp_list2 = []\n",
    "    temp_list3 = []\n",
    "    temp_list4 = []\n",
    "    temp_list5 = []\n",
    "\n",
    "    for i in range(len(temp_df)):\n",
    "        if str(temp_df3['type_train'][i]) != str(temp_df3['type_test'][i]):\n",
    "            temp_list.append(temp_df3['feature_train'][i])\n",
    "            temp_list2.append(temp_df3['feature_test'][i])\n",
    "            temp_list3.append(\n",
    "                str(temp_df3['type_train'][i]) + ' != ' + str(temp_df3['type_test'][i]))\n",
    "            temp_list4.append(i)\n",
    "        if temp_df3['# unique_test'][i] > 0 and temp_df3['# unique_train'][i]/temp_df3['# unique_test'][i] > 2:\n",
    "            temp_list5.append(i)\n",
    "\n",
    "    temp_dict3['index'] = temp_list4\n",
    "    temp_dict3['feature_train'] = temp_list\n",
    "    temp_dict3['не совпадают типы'] = temp_list3\n",
    "    temp_dict3['feature_test'] = temp_list2\n",
    "\n",
    "    temp_df4 = pd.DataFrame.from_dict(temp_dict3)\n",
    "    temp_df4.set_index('index', inplace=True)\n",
    "\n",
    "    print(f'Резюме:\\n 1. Не совпали типы в:= {len(temp_df4)} столбцах\\n')\n",
    "    print(\n",
    "        f'2. Уникальные значения различаются в:= {len(temp_list5)} столбцах {temp_list5}')\n",
    "    display(temp_df4)\n",
    "\n",
    "\n",
    "# После нескольких запусков выявили список столбцов, не полезных в дальнейшей работе\n",
    "# Это признаки, имеющие единственное значение, признаки не имеющие пары в обучающем и тестовом датасетах, признаки,\n",
    "# содержащие консолидированную информацию, уже сохраненную в других признаках\n",
    "#drop_cols = []\n",
    "drop_cols = ['car_url', 'sell_id', 'image', 'hidden', 'parsing_unixtime', 'Состояние', 'super_gen', 'vehicleConfiguration', 'description',\n",
    "             'Таможня', 'complectation_dict', 'equipment_dict', 'model_info', 'priceCurrency', 'vendor', 'Комплектация', 'Владение']\n",
    "# сначала будем и без времени владения\n",
    "# 1й и 2й предикты дали низкий результат, будем пробовать поднять метрики, введя datatime и меряя таким образом актуальность цены\n",
    "\n",
    "for col in drop_cols:\n",
    "    if col in list(df_train.columns):\n",
    "        df_train.drop(columns=[col], inplace=True)\n",
    "    if col in list(df_test.columns):\n",
    "        df_test.drop(columns=[col], inplace=True)\n",
    "\n",
    "check_df_before_merg(df_train, df_test)"
   ]
  },
  {
   "cell_type": "code",
   "execution_count": 12,
   "metadata": {
    "execution": {
     "iopub.execute_input": "2021-07-25T16:36:22.868262Z",
     "iopub.status.busy": "2021-07-25T16:36:22.867578Z",
     "iopub.status.idle": "2021-07-25T16:36:22.870897Z",
     "shell.execute_reply": "2021-07-25T16:36:22.870400Z",
     "shell.execute_reply.started": "2021-07-25T16:13:18.037269Z"
    },
    "papermill": {
     "duration": 0.075187,
     "end_time": "2021-07-25T16:36:22.871065",
     "exception": false,
     "start_time": "2021-07-25T16:36:22.795878",
     "status": "completed"
    },
    "tags": []
   },
   "outputs": [],
   "source": [
    "# сводим фактически одинаковые столбцы( с разными названиями в тест/трейн)\n",
    "df_test.rename(columns={'model_name': 'model'}, inplace=True)"
   ]
  },
  {
   "cell_type": "code",
   "execution_count": 13,
   "metadata": {
    "execution": {
     "iopub.execute_input": "2021-07-25T16:36:23.011769Z",
     "iopub.status.busy": "2021-07-25T16:36:23.010713Z",
     "iopub.status.idle": "2021-07-25T16:36:23.018561Z",
     "shell.execute_reply": "2021-07-25T16:36:23.019062Z",
     "shell.execute_reply.started": "2021-07-25T16:13:18.045476Z"
    },
    "papermill": {
     "duration": 0.080354,
     "end_time": "2021-07-25T16:36:23.019253",
     "exception": false,
     "start_time": "2021-07-25T16:36:22.938899",
     "status": "completed"
    },
    "tags": []
   },
   "outputs": [
    {
     "data": {
      "text/plain": [
       "array([ 3.,  1.,  2., nan])"
      ]
     },
     "execution_count": 13,
     "metadata": {},
     "output_type": "execute_result"
    }
   ],
   "source": [
    "df_train['Владельцы'].unique()"
   ]
  },
  {
   "cell_type": "code",
   "execution_count": 14,
   "metadata": {
    "execution": {
     "iopub.execute_input": "2021-07-25T16:36:23.168674Z",
     "iopub.status.busy": "2021-07-25T16:36:23.167564Z",
     "iopub.status.idle": "2021-07-25T16:36:23.175305Z",
     "shell.execute_reply": "2021-07-25T16:36:23.174633Z",
     "shell.execute_reply.started": "2021-07-25T16:13:18.070163Z"
    },
    "papermill": {
     "duration": 0.08746,
     "end_time": "2021-07-25T16:36:23.175452",
     "exception": false,
     "start_time": "2021-07-25T16:36:23.087992",
     "status": "completed"
    },
    "tags": []
   },
   "outputs": [],
   "source": [
    "# приводим данные к единому виду\n",
    "df_test['Владельцы'] = df_test['Владельцы'].map(\n",
    "    {'3 или более': 3.0, '2\\xa0владельца': 2.0, '1\\xa0владелец': 1.0})\n",
    "# в этом столбце больше всего пропусков( около 1/8 , будем заполнять их средним)\n",
    "df_test['Владельцы'].fillna(df_test['Владельцы'].mean(), inplace=True)\n",
    "df_train['Владельцы'].fillna(df_train['Владельцы'].mean(), inplace=True)"
   ]
  },
  {
   "cell_type": "code",
   "execution_count": 15,
   "metadata": {
    "execution": {
     "iopub.execute_input": "2021-07-25T16:36:23.334439Z",
     "iopub.status.busy": "2021-07-25T16:36:23.330756Z",
     "iopub.status.idle": "2021-07-25T16:36:23.337340Z",
     "shell.execute_reply": "2021-07-25T16:36:23.336646Z",
     "shell.execute_reply.started": "2021-07-25T16:13:18.094785Z"
    },
    "papermill": {
     "duration": 0.093322,
     "end_time": "2021-07-25T16:36:23.337484",
     "exception": false,
     "start_time": "2021-07-25T16:36:23.244162",
     "status": "completed"
    },
    "tags": []
   },
   "outputs": [],
   "source": [
    "# этот кусок кода я нашел в ответах в кегле\n",
    "dict_color = {'040001': 'чёрный', 'EE1D19': 'красный', '0000CC': 'синий',\n",
    "              'CACECB': 'серебристый', '007F00': 'зелёный', 'FAFBFB': 'белый',\n",
    "              '97948F': 'серый', '22A0F8': 'голубой', '660099': 'пурпурный',\n",
    "              '200204': 'коричневый', 'C49648': 'бежевый', 'DEA522': 'золотистый',\n",
    "              '4A2197': 'фиолетовый', 'FFD600': 'жёлтый', 'FF8649': 'оранжевый',\n",
    "              'FFC0CB': 'розовый'}\n",
    "df_train['color'] = df_train['color'].map(dict_color)"
   ]
  },
  {
   "cell_type": "code",
   "execution_count": 16,
   "metadata": {
    "execution": {
     "iopub.execute_input": "2021-07-25T16:36:23.481533Z",
     "iopub.status.busy": "2021-07-25T16:36:23.480836Z",
     "iopub.status.idle": "2021-07-25T16:36:27.223702Z",
     "shell.execute_reply": "2021-07-25T16:36:27.223114Z",
     "shell.execute_reply.started": "2021-07-25T16:13:18.124736Z"
    },
    "papermill": {
     "duration": 3.817503,
     "end_time": "2021-07-25T16:36:27.223859",
     "exception": false,
     "start_time": "2021-07-25T16:36:23.406356",
     "status": "completed"
    },
    "tags": []
   },
   "outputs": [
    {
     "data": {
      "text/html": [
       "<div>\n",
       "<style scoped>\n",
       "    .dataframe tbody tr th:only-of-type {\n",
       "        vertical-align: middle;\n",
       "    }\n",
       "\n",
       "    .dataframe tbody tr th {\n",
       "        vertical-align: top;\n",
       "    }\n",
       "\n",
       "    .dataframe thead th {\n",
       "        text-align: right;\n",
       "    }\n",
       "</style>\n",
       "<table border=\"1\" class=\"dataframe\">\n",
       "  <thead>\n",
       "    <tr style=\"text-align: right;\">\n",
       "      <th></th>\n",
       "      <th>bodyType</th>\n",
       "      <th>brand</th>\n",
       "      <th>color</th>\n",
       "      <th>fuelType</th>\n",
       "      <th>modelDate</th>\n",
       "      <th>name</th>\n",
       "      <th>numberOfDoors</th>\n",
       "      <th>productionDate</th>\n",
       "      <th>vehicleTransmission</th>\n",
       "      <th>engineDisplacement</th>\n",
       "      <th>enginePower</th>\n",
       "      <th>mileage</th>\n",
       "      <th>Привод</th>\n",
       "      <th>Руль</th>\n",
       "      <th>Владельцы</th>\n",
       "      <th>ПТС</th>\n",
       "      <th>price</th>\n",
       "      <th>start_date</th>\n",
       "      <th>model</th>\n",
       "      <th>sample</th>\n",
       "      <th>day_old</th>\n",
       "    </tr>\n",
       "  </thead>\n",
       "  <tbody>\n",
       "    <tr>\n",
       "      <th>0</th>\n",
       "      <td>Седан</td>\n",
       "      <td>AUDI</td>\n",
       "      <td>чёрный</td>\n",
       "      <td>бензин</td>\n",
       "      <td>1990.0</td>\n",
       "      <td>2.8 MT (174 л.с.) 4WD</td>\n",
       "      <td>4.0</td>\n",
       "      <td>1991</td>\n",
       "      <td>MECHANICAL</td>\n",
       "      <td>2.8</td>\n",
       "      <td>174.0</td>\n",
       "      <td>350000</td>\n",
       "      <td>полный</td>\n",
       "      <td>LEFT</td>\n",
       "      <td>3.0</td>\n",
       "      <td>ORIGINAL</td>\n",
       "      <td>200000.0</td>\n",
       "      <td>2019-10-03T08:09:11Z</td>\n",
       "      <td>100</td>\n",
       "      <td>1</td>\n",
       "      <td>661</td>\n",
       "    </tr>\n",
       "    <tr>\n",
       "      <th>1</th>\n",
       "      <td>Седан</td>\n",
       "      <td>AUDI</td>\n",
       "      <td>красный</td>\n",
       "      <td>бензин</td>\n",
       "      <td>1982.0</td>\n",
       "      <td>1.8 MT (90 л.с.)</td>\n",
       "      <td>4.0</td>\n",
       "      <td>1986</td>\n",
       "      <td>MECHANICAL</td>\n",
       "      <td>1.8</td>\n",
       "      <td>90.0</td>\n",
       "      <td>173424</td>\n",
       "      <td>передний</td>\n",
       "      <td>LEFT</td>\n",
       "      <td>3.0</td>\n",
       "      <td>ORIGINAL</td>\n",
       "      <td>60000.0</td>\n",
       "      <td>2020-09-06T06:49:40Z</td>\n",
       "      <td>100</td>\n",
       "      <td>1</td>\n",
       "      <td>322</td>\n",
       "    </tr>\n",
       "  </tbody>\n",
       "</table>\n",
       "</div>"
      ],
      "text/plain": [
       "  bodyType brand    color fuelType  modelDate                   name  \\\n",
       "0    Седан  AUDI   чёрный   бензин     1990.0  2.8 MT (174 л.с.) 4WD   \n",
       "1    Седан  AUDI  красный   бензин     1982.0       1.8 MT (90 л.с.)   \n",
       "\n",
       "   numberOfDoors  productionDate vehicleTransmission engineDisplacement  \\\n",
       "0            4.0            1991          MECHANICAL                2.8   \n",
       "1            4.0            1986          MECHANICAL                1.8   \n",
       "\n",
       "   enginePower  mileage    Привод  Руль  Владельцы       ПТС     price  \\\n",
       "0        174.0   350000    полный  LEFT        3.0  ORIGINAL  200000.0   \n",
       "1         90.0   173424  передний  LEFT        3.0  ORIGINAL   60000.0   \n",
       "\n",
       "             start_date model  sample  day_old  \n",
       "0  2019-10-03T08:09:11Z   100       1      661  \n",
       "1  2020-09-06T06:49:40Z   100       1      322  "
      ]
     },
     "metadata": {},
     "output_type": "display_data"
    },
    {
     "data": {
      "text/html": [
       "<div>\n",
       "<style scoped>\n",
       "    .dataframe tbody tr th:only-of-type {\n",
       "        vertical-align: middle;\n",
       "    }\n",
       "\n",
       "    .dataframe tbody tr th {\n",
       "        vertical-align: top;\n",
       "    }\n",
       "\n",
       "    .dataframe thead th {\n",
       "        text-align: right;\n",
       "    }\n",
       "</style>\n",
       "<table border=\"1\" class=\"dataframe\">\n",
       "  <thead>\n",
       "    <tr style=\"text-align: right;\">\n",
       "      <th></th>\n",
       "      <th>bodyType</th>\n",
       "      <th>brand</th>\n",
       "      <th>color</th>\n",
       "      <th>engineDisplacement</th>\n",
       "      <th>enginePower</th>\n",
       "      <th>fuelType</th>\n",
       "      <th>mileage</th>\n",
       "      <th>modelDate</th>\n",
       "      <th>model</th>\n",
       "      <th>name</th>\n",
       "      <th>numberOfDoors</th>\n",
       "      <th>productionDate</th>\n",
       "      <th>vehicleTransmission</th>\n",
       "      <th>Владельцы</th>\n",
       "      <th>ПТС</th>\n",
       "      <th>Привод</th>\n",
       "      <th>Руль</th>\n",
       "      <th>sample</th>\n",
       "      <th>day_old</th>\n",
       "    </tr>\n",
       "  </thead>\n",
       "  <tbody>\n",
       "    <tr>\n",
       "      <th>0</th>\n",
       "      <td>лифтбек</td>\n",
       "      <td>SKODA</td>\n",
       "      <td>синий</td>\n",
       "      <td>1.2 LTR</td>\n",
       "      <td>105 N12</td>\n",
       "      <td>бензин</td>\n",
       "      <td>74000</td>\n",
       "      <td>2013</td>\n",
       "      <td>OCTAVIA</td>\n",
       "      <td>1.2 AMT (105 л.с.)</td>\n",
       "      <td>5</td>\n",
       "      <td>2014</td>\n",
       "      <td>роботизированная</td>\n",
       "      <td>3.0</td>\n",
       "      <td>Оригинал</td>\n",
       "      <td>передний</td>\n",
       "      <td>Левый</td>\n",
       "      <td>0</td>\n",
       "      <td>0</td>\n",
       "    </tr>\n",
       "    <tr>\n",
       "      <th>1</th>\n",
       "      <td>лифтбек</td>\n",
       "      <td>SKODA</td>\n",
       "      <td>чёрный</td>\n",
       "      <td>1.6 LTR</td>\n",
       "      <td>110 N12</td>\n",
       "      <td>бензин</td>\n",
       "      <td>60563</td>\n",
       "      <td>2017</td>\n",
       "      <td>OCTAVIA</td>\n",
       "      <td>1.6 MT (110 л.с.)</td>\n",
       "      <td>5</td>\n",
       "      <td>2017</td>\n",
       "      <td>механическая</td>\n",
       "      <td>1.0</td>\n",
       "      <td>Оригинал</td>\n",
       "      <td>передний</td>\n",
       "      <td>Левый</td>\n",
       "      <td>0</td>\n",
       "      <td>0</td>\n",
       "    </tr>\n",
       "  </tbody>\n",
       "</table>\n",
       "</div>"
      ],
      "text/plain": [
       "  bodyType  brand   color engineDisplacement enginePower fuelType  mileage  \\\n",
       "0  лифтбек  SKODA   синий            1.2 LTR     105 N12   бензин    74000   \n",
       "1  лифтбек  SKODA  чёрный            1.6 LTR     110 N12   бензин    60563   \n",
       "\n",
       "   modelDate    model                name  numberOfDoors  productionDate  \\\n",
       "0       2013  OCTAVIA  1.2 AMT (105 л.с.)              5            2014   \n",
       "1       2017  OCTAVIA   1.6 MT (110 л.с.)              5            2017   \n",
       "\n",
       "  vehicleTransmission  Владельцы       ПТС    Привод   Руль  sample  day_old  \n",
       "0    роботизированная        3.0  Оригинал  передний  Левый       0        0  \n",
       "1        механическая        1.0  Оригинал  передний  Левый       0        0  "
      ]
     },
     "metadata": {},
     "output_type": "display_data"
    }
   ],
   "source": [
    "# day_old - столбец, по которому мы будем в будующем корректировать цену, актуализировать\n",
    "df_train['day_old'] = df_train['start_date'].apply(\n",
    "    lambda x: datetime.now().date() - datetime.strptime(x[0:10], \"%Y-%m-%d\").date())\n",
    "df_train['day_old'] = df_train['day_old'].apply(\n",
    "    lambda x: int((repr(x)[11:-15])))\n",
    "df_test['day_old'] = 0\n",
    "display(df_train.head(2))\n",
    "display(df_test.head(2))"
   ]
  },
  {
   "cell_type": "code",
   "execution_count": 17,
   "metadata": {
    "execution": {
     "iopub.execute_input": "2021-07-25T16:36:27.375640Z",
     "iopub.status.busy": "2021-07-25T16:36:27.374925Z",
     "iopub.status.idle": "2021-07-25T16:36:27.393369Z",
     "shell.execute_reply": "2021-07-25T16:36:27.392780Z",
     "shell.execute_reply.started": "2021-07-25T16:13:21.943617Z"
    },
    "papermill": {
     "duration": 0.093376,
     "end_time": "2021-07-25T16:36:27.393521",
     "exception": false,
     "start_time": "2021-07-25T16:36:27.300145",
     "status": "completed"
    },
    "tags": []
   },
   "outputs": [],
   "source": [
    "df_train.drop(columns='start_date', inplace=True)"
   ]
  },
  {
   "cell_type": "code",
   "execution_count": 18,
   "metadata": {
    "execution": {
     "iopub.execute_input": "2021-07-25T16:36:27.560042Z",
     "iopub.status.busy": "2021-07-25T16:36:27.540781Z",
     "iopub.status.idle": "2021-07-25T16:36:27.566045Z",
     "shell.execute_reply": "2021-07-25T16:36:27.565474Z",
     "shell.execute_reply.started": "2021-07-25T16:13:21.973551Z"
    },
    "papermill": {
     "duration": 0.103898,
     "end_time": "2021-07-25T16:36:27.566186",
     "exception": false,
     "start_time": "2021-07-25T16:36:27.462288",
     "status": "completed"
    },
    "tags": []
   },
   "outputs": [],
   "source": [
    "# руль\n",
    "wh_dict = {'Левый': 'LEFT', 'Правый': 'RIGHT'}\n",
    "df_test['Руль'] = df_test['Руль'].map(wh_dict)\n",
    "# ПТС\n",
    "pts_dict = {'Оригинал': 'ORIGINAL', 'Дубликат': 'DUPLICATE'}\n",
    "df_test['ПТС'] = df_test['ПТС'].map(pts_dict)\n",
    "df_train['ПТС'] = df_train['ПТС'].fillna('ORIGINAL')"
   ]
  },
  {
   "cell_type": "code",
   "execution_count": 19,
   "metadata": {
    "execution": {
     "iopub.execute_input": "2021-07-25T16:36:27.730479Z",
     "iopub.status.busy": "2021-07-25T16:36:27.729300Z",
     "iopub.status.idle": "2021-07-25T16:36:27.734419Z",
     "shell.execute_reply": "2021-07-25T16:36:27.733845Z",
     "shell.execute_reply.started": "2021-07-25T16:13:22.012209Z"
    },
    "papermill": {
     "duration": 0.100089,
     "end_time": "2021-07-25T16:36:27.734575",
     "exception": false,
     "start_time": "2021-07-25T16:36:27.634486",
     "status": "completed"
    },
    "tags": []
   },
   "outputs": [
    {
     "data": {
      "text/html": [
       "<div>\n",
       "<style scoped>\n",
       "    .dataframe tbody tr th:only-of-type {\n",
       "        vertical-align: middle;\n",
       "    }\n",
       "\n",
       "    .dataframe tbody tr th {\n",
       "        vertical-align: top;\n",
       "    }\n",
       "\n",
       "    .dataframe thead th {\n",
       "        text-align: right;\n",
       "    }\n",
       "</style>\n",
       "<table border=\"1\" class=\"dataframe\">\n",
       "  <thead>\n",
       "    <tr style=\"text-align: right;\">\n",
       "      <th></th>\n",
       "      <th>bodyType</th>\n",
       "      <th>brand</th>\n",
       "      <th>color</th>\n",
       "      <th>fuelType</th>\n",
       "      <th>modelDate</th>\n",
       "      <th>name</th>\n",
       "      <th>numberOfDoors</th>\n",
       "      <th>productionDate</th>\n",
       "      <th>vehicleTransmission</th>\n",
       "      <th>engineDisplacement</th>\n",
       "      <th>enginePower</th>\n",
       "      <th>mileage</th>\n",
       "      <th>Привод</th>\n",
       "      <th>Руль</th>\n",
       "      <th>Владельцы</th>\n",
       "      <th>ПТС</th>\n",
       "      <th>price</th>\n",
       "      <th>model</th>\n",
       "      <th>sample</th>\n",
       "      <th>day_old</th>\n",
       "    </tr>\n",
       "  </thead>\n",
       "  <tbody>\n",
       "    <tr>\n",
       "      <th>81648</th>\n",
       "      <td>Седан</td>\n",
       "      <td>MERCEDES</td>\n",
       "      <td>чёрный</td>\n",
       "      <td>бензин</td>\n",
       "      <td>2000.0</td>\n",
       "      <td>200 2.0 AT (163 л.с.)</td>\n",
       "      <td>4.0</td>\n",
       "      <td>2001</td>\n",
       "      <td>AUTOMATIC</td>\n",
       "      <td>200</td>\n",
       "      <td>163.0</td>\n",
       "      <td>225000</td>\n",
       "      <td>задний</td>\n",
       "      <td>LEFT</td>\n",
       "      <td>3.0</td>\n",
       "      <td>DUPLICATE</td>\n",
       "      <td>280000.0</td>\n",
       "      <td>C_KLASSE</td>\n",
       "      <td>1</td>\n",
       "      <td>529</td>\n",
       "    </tr>\n",
       "    <tr>\n",
       "      <th>32803</th>\n",
       "      <td>Компактвэн</td>\n",
       "      <td>KIA</td>\n",
       "      <td>красный</td>\n",
       "      <td>бензин</td>\n",
       "      <td>1999.0</td>\n",
       "      <td>1.8 MT (109 л.с.)</td>\n",
       "      <td>5.0</td>\n",
       "      <td>2001</td>\n",
       "      <td>MECHANICAL</td>\n",
       "      <td>1.8</td>\n",
       "      <td>109.0</td>\n",
       "      <td>133537</td>\n",
       "      <td>передний</td>\n",
       "      <td>LEFT</td>\n",
       "      <td>3.0</td>\n",
       "      <td>ORIGINAL</td>\n",
       "      <td>185000.0</td>\n",
       "      <td>CARENS</td>\n",
       "      <td>1</td>\n",
       "      <td>600</td>\n",
       "    </tr>\n",
       "  </tbody>\n",
       "</table>\n",
       "</div>"
      ],
      "text/plain": [
       "         bodyType     brand    color fuelType  modelDate  \\\n",
       "81648       Седан  MERCEDES   чёрный   бензин     2000.0   \n",
       "32803  Компактвэн       KIA  красный   бензин     1999.0   \n",
       "\n",
       "                        name  numberOfDoors  productionDate  \\\n",
       "81648  200 2.0 AT (163 л.с.)            4.0            2001   \n",
       "32803      1.8 MT (109 л.с.)            5.0            2001   \n",
       "\n",
       "      vehicleTransmission engineDisplacement  enginePower  mileage    Привод  \\\n",
       "81648           AUTOMATIC                200        163.0   225000    задний   \n",
       "32803          MECHANICAL                1.8        109.0   133537  передний   \n",
       "\n",
       "       Руль  Владельцы        ПТС     price     model  sample  day_old  \n",
       "81648  LEFT        3.0  DUPLICATE  280000.0  C_KLASSE       1      529  \n",
       "32803  LEFT        3.0   ORIGINAL  185000.0    CARENS       1      600  "
      ]
     },
     "execution_count": 19,
     "metadata": {},
     "output_type": "execute_result"
    }
   ],
   "source": [
    "df_train.sample(2)"
   ]
  },
  {
   "cell_type": "code",
   "execution_count": 20,
   "metadata": {
    "execution": {
     "iopub.execute_input": "2021-07-25T16:36:27.895107Z",
     "iopub.status.busy": "2021-07-25T16:36:27.893883Z",
     "iopub.status.idle": "2021-07-25T16:36:28.135401Z",
     "shell.execute_reply": "2021-07-25T16:36:28.136163Z",
     "shell.execute_reply.started": "2021-07-25T16:13:22.042475Z"
    },
    "papermill": {
     "duration": 0.325795,
     "end_time": "2021-07-25T16:36:28.136431",
     "exception": false,
     "start_time": "2021-07-25T16:36:27.810636",
     "status": "completed"
    },
    "tags": []
   },
   "outputs": [],
   "source": [
    "# разбиваем категориальный признак на 2 численных\n",
    "df_test['motor_v'] = df_test['name'].apply(lambda x: x[0: 3])\n",
    "df_test['LS'] = df_test['name'].apply(\n",
    "    lambda x: x[(x.find('(')+1): (x.find('л')-1)])\n",
    "df_train['motor_v'] = df_train['name'].apply(lambda x: str(x)[0: 3])\n",
    "df_train['LS'] = df_train['name'].apply(lambda x: str(\n",
    "    x)[(str(x).find('(')+1): (str(x).find('л')-1)])"
   ]
  },
  {
   "cell_type": "code",
   "execution_count": 21,
   "metadata": {
    "execution": {
     "iopub.execute_input": "2021-07-25T16:36:28.295695Z",
     "iopub.status.busy": "2021-07-25T16:36:28.294742Z",
     "iopub.status.idle": "2021-07-25T16:36:28.321114Z",
     "shell.execute_reply": "2021-07-25T16:36:28.320421Z",
     "shell.execute_reply.started": "2021-07-25T16:13:22.232683Z"
    },
    "papermill": {
     "duration": 0.10301,
     "end_time": "2021-07-25T16:36:28.321251",
     "exception": false,
     "start_time": "2021-07-25T16:36:28.218241",
     "status": "completed"
    },
    "tags": []
   },
   "outputs": [],
   "source": [
    "# df_train['vehicleTransmission'].unique()\n",
    "# vehicleTransmission\n",
    "df_train['vehicleTransmission'] = df_train['vehicleTransmission'].map({'AUTOMATIC': 'автоматическая', 'MECHANICAL': 'механическая',\n",
    "                                                                       'ROBOT': 'роботизированная', 'VARIATOR': 'вариатор'})"
   ]
  },
  {
   "cell_type": "code",
   "execution_count": 22,
   "metadata": {
    "execution": {
     "iopub.execute_input": "2021-07-25T16:36:28.472162Z",
     "iopub.status.busy": "2021-07-25T16:36:28.471165Z",
     "iopub.status.idle": "2021-07-25T16:36:28.490483Z",
     "shell.execute_reply": "2021-07-25T16:36:28.490960Z",
     "shell.execute_reply.started": "2021-07-25T16:13:22.259916Z"
    },
    "papermill": {
     "duration": 0.093469,
     "end_time": "2021-07-25T16:36:28.491159",
     "exception": false,
     "start_time": "2021-07-25T16:36:28.397690",
     "status": "completed"
    },
    "tags": []
   },
   "outputs": [],
   "source": [
    "# enginePower\n",
    "df_test['enginePower'] = df_test['enginePower'].apply(lambda x: x[0:2])\n",
    "# enginePower\n",
    "df_train['enginePower'] = df_train['enginePower'].astype(\n",
    "    'int', errors='ignore')"
   ]
  },
  {
   "cell_type": "code",
   "execution_count": 23,
   "metadata": {
    "execution": {
     "iopub.execute_input": "2021-07-25T16:36:28.634000Z",
     "iopub.status.busy": "2021-07-25T16:36:28.633029Z",
     "iopub.status.idle": "2021-07-25T16:36:28.768104Z",
     "shell.execute_reply": "2021-07-25T16:36:28.769150Z",
     "shell.execute_reply.started": "2021-07-25T16:13:22.282121Z"
    },
    "papermill": {
     "duration": 0.208853,
     "end_time": "2021-07-25T16:36:28.769388",
     "exception": false,
     "start_time": "2021-07-25T16:36:28.560535",
     "status": "completed"
    },
    "tags": []
   },
   "outputs": [
    {
     "name": "stdout",
     "output_type": "stream",
     "text": [
      "<class 'pandas.core.frame.DataFrame'>\n",
      "RangeIndex: 89378 entries, 0 to 89377\n",
      "Data columns (total 22 columns):\n",
      " #   Column               Non-Null Count  Dtype  \n",
      "---  ------               --------------  -----  \n",
      " 0   bodyType             89377 non-null  object \n",
      " 1   brand                89378 non-null  object \n",
      " 2   color                89378 non-null  object \n",
      " 3   fuelType             89378 non-null  object \n",
      " 4   modelDate            89377 non-null  float64\n",
      " 5   name                 89377 non-null  object \n",
      " 6   numberOfDoors        89377 non-null  float64\n",
      " 7   productionDate       89378 non-null  int64  \n",
      " 8   vehicleTransmission  89377 non-null  object \n",
      " 9   engineDisplacement   89377 non-null  object \n",
      " 10  enginePower          89377 non-null  float64\n",
      " 11  mileage              89378 non-null  int64  \n",
      " 12  Привод               89377 non-null  object \n",
      " 13  Руль                 89378 non-null  object \n",
      " 14  Владельцы            89378 non-null  float64\n",
      " 15  ПТС                  89378 non-null  object \n",
      " 16  price                88968 non-null  float64\n",
      " 17  model                89378 non-null  object \n",
      " 18  sample               89378 non-null  int64  \n",
      " 19  day_old              89378 non-null  int64  \n",
      " 20  motor_v              89378 non-null  object \n",
      " 21  LS                   89378 non-null  object \n",
      "dtypes: float64(5), int64(4), object(13)\n",
      "memory usage: 15.0+ MB\n"
     ]
    }
   ],
   "source": [
    "df_train.info()"
   ]
  },
  {
   "cell_type": "code",
   "execution_count": null,
   "metadata": {
    "papermill": {
     "duration": 0.070526,
     "end_time": "2021-07-25T16:36:28.918784",
     "exception": false,
     "start_time": "2021-07-25T16:36:28.848258",
     "status": "completed"
    },
    "tags": []
   },
   "outputs": [],
   "source": []
  },
  {
   "cell_type": "code",
   "execution_count": 24,
   "metadata": {
    "execution": {
     "iopub.execute_input": "2021-07-25T16:36:29.105515Z",
     "iopub.status.busy": "2021-07-25T16:36:29.104793Z",
     "iopub.status.idle": "2021-07-25T16:36:29.130519Z",
     "shell.execute_reply": "2021-07-25T16:36:29.129846Z",
     "shell.execute_reply.started": "2021-07-25T16:13:22.419453Z"
    },
    "papermill": {
     "duration": 0.14193,
     "end_time": "2021-07-25T16:36:29.130669",
     "exception": false,
     "start_time": "2021-07-25T16:36:28.988739",
     "status": "completed"
    },
    "tags": []
   },
   "outputs": [
    {
     "name": "stdout",
     "output_type": "stream",
     "text": [
      "<class 'pandas.core.frame.DataFrame'>\n",
      "RangeIndex: 34686 entries, 0 to 34685\n",
      "Data columns (total 21 columns):\n",
      " #   Column               Non-Null Count  Dtype  \n",
      "---  ------               --------------  -----  \n",
      " 0   bodyType             34686 non-null  object \n",
      " 1   brand                34686 non-null  object \n",
      " 2   color                34686 non-null  object \n",
      " 3   engineDisplacement   34686 non-null  object \n",
      " 4   enginePower          34686 non-null  object \n",
      " 5   fuelType             34686 non-null  object \n",
      " 6   mileage              34686 non-null  int64  \n",
      " 7   modelDate            34686 non-null  int64  \n",
      " 8   model                34686 non-null  object \n",
      " 9   name                 34686 non-null  object \n",
      " 10  numberOfDoors        34686 non-null  int64  \n",
      " 11  productionDate       34686 non-null  int64  \n",
      " 12  vehicleTransmission  34686 non-null  object \n",
      " 13  Владельцы            34686 non-null  float64\n",
      " 14  ПТС                  34685 non-null  object \n",
      " 15  Привод               34686 non-null  object \n",
      " 16  Руль                 34686 non-null  object \n",
      " 17  sample               34686 non-null  int64  \n",
      " 18  day_old              34686 non-null  int64  \n",
      " 19  motor_v              34686 non-null  object \n",
      " 20  LS                   34686 non-null  object \n",
      "dtypes: float64(1), int64(6), object(14)\n",
      "memory usage: 5.6+ MB\n"
     ]
    }
   ],
   "source": [
    "df_test.info()"
   ]
  },
  {
   "cell_type": "code",
   "execution_count": 25,
   "metadata": {
    "execution": {
     "iopub.execute_input": "2021-07-25T16:36:29.284223Z",
     "iopub.status.busy": "2021-07-25T16:36:29.283550Z",
     "iopub.status.idle": "2021-07-25T16:36:30.122435Z",
     "shell.execute_reply": "2021-07-25T16:36:30.123174Z",
     "shell.execute_reply.started": "2021-07-25T16:13:22.490945Z"
    },
    "papermill": {
     "duration": 0.915881,
     "end_time": "2021-07-25T16:36:30.123361",
     "exception": false,
     "start_time": "2021-07-25T16:36:29.207480",
     "status": "completed"
    },
    "tags": []
   },
   "outputs": [
    {
     "data": {
      "image/png": "[encoded data removed]",
      "text/plain": [
       "<Figure size 432x288 with 2 Axes>"
      ]
     },
     "metadata": {
      "needs_background": "light"
     },
     "output_type": "display_data"
    }
   ],
   "source": [
    "sns.heatmap(df_train.corr(), annot=True, cmap='coolwarm')\n",
    "#\n",
    "# из численных признаков сравнительно высокая корреляция только у enginePower , modelDate , productionDate, mileage\n",
    "cols_for_cat = ['enginePower', 'modelDate',\n",
    "                'productionDate', 'mileage', 'sample', 'price']"
   ]
  },
  {
   "cell_type": "code",
   "execution_count": 26,
   "metadata": {
    "execution": {
     "iopub.execute_input": "2021-07-25T16:36:30.271624Z",
     "iopub.status.busy": "2021-07-25T16:36:30.270603Z",
     "iopub.status.idle": "2021-07-25T16:36:30.277617Z",
     "shell.execute_reply": "2021-07-25T16:36:30.278178Z",
     "shell.execute_reply.started": "2021-07-25T16:13:23.253051Z"
    },
    "papermill": {
     "duration": 0.082719,
     "end_time": "2021-07-25T16:36:30.278348",
     "exception": false,
     "start_time": "2021-07-25T16:36:30.195629",
     "status": "completed"
    },
    "tags": []
   },
   "outputs": [
    {
     "data": {
      "text/plain": [
       "['enginePower',\n",
       " 'modelDate',\n",
       " 'productionDate',\n",
       " 'mileage',\n",
       " 'sample',\n",
       " 'price',\n",
       " 'bodyType',\n",
       " 'brand',\n",
       " 'motor_v',\n",
       " 'LS',\n",
       " 'Владельцы',\n",
       " 'ПТС',\n",
       " 'model',\n",
       " 'engineDisplacement']"
      ]
     },
     "execution_count": 26,
     "metadata": {},
     "output_type": "execute_result"
    }
   ],
   "source": [
    "# для baseline просто возьму пару схожих признаков без полной обработки -- cols_for_cat\n",
    "# + возьмем основные категориальные признаки\n",
    "# , 'motor_v' , 'LS' , 'Владельцы' , 'ПТС' , 'model'\n",
    "cols_for_cat += ['bodyType', 'brand', 'motor_v', 'LS',\n",
    "                 'Владельцы', 'ПТС', 'model', 'engineDisplacement']\n",
    "cols_for_cat"
   ]
  },
  {
   "cell_type": "code",
   "execution_count": 27,
   "metadata": {
    "execution": {
     "iopub.execute_input": "2021-07-25T16:36:30.428267Z",
     "iopub.status.busy": "2021-07-25T16:36:30.427193Z",
     "iopub.status.idle": "2021-07-25T16:36:30.630103Z",
     "shell.execute_reply": "2021-07-25T16:36:30.630650Z",
     "shell.execute_reply.started": "2021-07-25T16:13:23.261665Z"
    },
    "papermill": {
     "duration": 0.280508,
     "end_time": "2021-07-25T16:36:30.630824",
     "exception": false,
     "start_time": "2021-07-25T16:36:30.350316",
     "status": "completed"
    },
    "tags": []
   },
   "outputs": [],
   "source": [
    "df_train = df_train.fillna(value=0)\n",
    "df_test = df_test.fillna(value=0)"
   ]
  },
  {
   "cell_type": "code",
   "execution_count": 28,
   "metadata": {
    "execution": {
     "iopub.execute_input": "2021-07-25T16:36:30.780875Z",
     "iopub.status.busy": "2021-07-25T16:36:30.779872Z",
     "iopub.status.idle": "2021-07-25T16:36:30.914189Z",
     "shell.execute_reply": "2021-07-25T16:36:30.914703Z",
     "shell.execute_reply.started": "2021-07-25T16:13:23.485387Z"
    },
    "papermill": {
     "duration": 0.209796,
     "end_time": "2021-07-25T16:36:30.914907",
     "exception": false,
     "start_time": "2021-07-25T16:36:30.705111",
     "status": "completed"
    },
    "tags": []
   },
   "outputs": [
    {
     "name": "stdout",
     "output_type": "stream",
     "text": [
      "<class 'pandas.core.frame.DataFrame'>\n",
      "RangeIndex: 89378 entries, 0 to 89377\n",
      "Data columns (total 22 columns):\n",
      " #   Column               Non-Null Count  Dtype  \n",
      "---  ------               --------------  -----  \n",
      " 0   bodyType             89378 non-null  object \n",
      " 1   brand                89378 non-null  object \n",
      " 2   color                89378 non-null  object \n",
      " 3   fuelType             89378 non-null  object \n",
      " 4   modelDate            89378 non-null  float64\n",
      " 5   name                 89378 non-null  object \n",
      " 6   numberOfDoors        89378 non-null  float64\n",
      " 7   productionDate       89378 non-null  int64  \n",
      " 8   vehicleTransmission  89378 non-null  object \n",
      " 9   engineDisplacement   89378 non-null  object \n",
      " 10  enginePower          89378 non-null  float64\n",
      " 11  mileage              89378 non-null  int64  \n",
      " 12  Привод               89378 non-null  object \n",
      " 13  Руль                 89378 non-null  object \n",
      " 14  Владельцы            89378 non-null  float64\n",
      " 15  ПТС                  89378 non-null  object \n",
      " 16  price                89378 non-null  float64\n",
      " 17  model                89378 non-null  object \n",
      " 18  sample               89378 non-null  int64  \n",
      " 19  day_old              89378 non-null  int64  \n",
      " 20  motor_v              89378 non-null  object \n",
      " 21  LS                   89378 non-null  object \n",
      "dtypes: float64(5), int64(4), object(13)\n",
      "memory usage: 15.0+ MB\n"
     ]
    }
   ],
   "source": [
    "df_train.info()"
   ]
  },
  {
   "cell_type": "markdown",
   "metadata": {
    "papermill": {
     "duration": 0.073111,
     "end_time": "2021-07-25T16:36:31.060432",
     "exception": false,
     "start_time": "2021-07-25T16:36:30.987321",
     "status": "completed"
    },
    "tags": []
   },
   "source": [
    "## train/test"
   ]
  },
  {
   "cell_type": "code",
   "execution_count": 29,
   "metadata": {
    "execution": {
     "iopub.execute_input": "2021-07-25T16:36:31.215333Z",
     "iopub.status.busy": "2021-07-25T16:36:31.214056Z",
     "iopub.status.idle": "2021-07-25T16:36:31.374880Z",
     "shell.execute_reply": "2021-07-25T16:36:31.374355Z",
     "shell.execute_reply.started": "2021-07-25T16:13:23.623345Z"
    },
    "papermill": {
     "duration": 0.241257,
     "end_time": "2021-07-25T16:36:31.375042",
     "exception": false,
     "start_time": "2021-07-25T16:36:31.133785",
     "status": "completed"
    },
    "tags": []
   },
   "outputs": [
    {
     "data": {
      "text/html": [
       "<div>\n",
       "<style scoped>\n",
       "    .dataframe tbody tr th:only-of-type {\n",
       "        vertical-align: middle;\n",
       "    }\n",
       "\n",
       "    .dataframe tbody tr th {\n",
       "        vertical-align: top;\n",
       "    }\n",
       "\n",
       "    .dataframe thead th {\n",
       "        text-align: right;\n",
       "    }\n",
       "</style>\n",
       "<table border=\"1\" class=\"dataframe\">\n",
       "  <thead>\n",
       "    <tr style=\"text-align: right;\">\n",
       "      <th></th>\n",
       "      <th>bodyType</th>\n",
       "      <th>brand</th>\n",
       "      <th>color</th>\n",
       "      <th>engineDisplacement</th>\n",
       "      <th>enginePower</th>\n",
       "      <th>fuelType</th>\n",
       "      <th>mileage</th>\n",
       "      <th>modelDate</th>\n",
       "      <th>model</th>\n",
       "      <th>name</th>\n",
       "      <th>numberOfDoors</th>\n",
       "      <th>productionDate</th>\n",
       "      <th>vehicleTransmission</th>\n",
       "      <th>Владельцы</th>\n",
       "      <th>ПТС</th>\n",
       "      <th>Привод</th>\n",
       "      <th>Руль</th>\n",
       "      <th>sample</th>\n",
       "      <th>day_old</th>\n",
       "      <th>motor_v</th>\n",
       "      <th>LS</th>\n",
       "      <th>price</th>\n",
       "    </tr>\n",
       "  </thead>\n",
       "  <tbody>\n",
       "    <tr>\n",
       "      <th>114601</th>\n",
       "      <td>Внедорожник 5 дв. Long</td>\n",
       "      <td>LAND_ROVER</td>\n",
       "      <td>чёрный</td>\n",
       "      <td>Long</td>\n",
       "      <td>510.0</td>\n",
       "      <td>бензин</td>\n",
       "      <td>60000</td>\n",
       "      <td>2012.0</td>\n",
       "      <td>RANGE_ROVER</td>\n",
       "      <td>Long 5.0 AT (510 л.с.) 4WD</td>\n",
       "      <td>5.0</td>\n",
       "      <td>2017</td>\n",
       "      <td>автоматическая</td>\n",
       "      <td>2.0</td>\n",
       "      <td>ORIGINAL</td>\n",
       "      <td>полный</td>\n",
       "      <td>LEFT</td>\n",
       "      <td>1</td>\n",
       "      <td>358</td>\n",
       "      <td>Lon</td>\n",
       "      <td>510</td>\n",
       "      <td>5700000.0</td>\n",
       "    </tr>\n",
       "    <tr>\n",
       "      <th>123807</th>\n",
       "      <td>Внедорожник 5 дв.</td>\n",
       "      <td>SSANG_YONG</td>\n",
       "      <td>чёрный</td>\n",
       "      <td>2.0d</td>\n",
       "      <td>141.0</td>\n",
       "      <td>дизель</td>\n",
       "      <td>168000</td>\n",
       "      <td>2005.0</td>\n",
       "      <td>KYRON</td>\n",
       "      <td>2.0d AT (141 л.с.) 4WD</td>\n",
       "      <td>5.0</td>\n",
       "      <td>2007</td>\n",
       "      <td>автоматическая</td>\n",
       "      <td>2.0</td>\n",
       "      <td>ORIGINAL</td>\n",
       "      <td>полный</td>\n",
       "      <td>LEFT</td>\n",
       "      <td>1</td>\n",
       "      <td>465</td>\n",
       "      <td>2.0</td>\n",
       "      <td>141</td>\n",
       "      <td>480000.0</td>\n",
       "    </tr>\n",
       "    <tr>\n",
       "      <th>16077</th>\n",
       "      <td>седан</td>\n",
       "      <td>MERCEDES</td>\n",
       "      <td>чёрный</td>\n",
       "      <td>1.8 LTR</td>\n",
       "      <td>18</td>\n",
       "      <td>бензин</td>\n",
       "      <td>230000</td>\n",
       "      <td>2009.0</td>\n",
       "      <td>E_KLASSE</td>\n",
       "      <td>200 1.8 AT (184 л.с.)</td>\n",
       "      <td>4.0</td>\n",
       "      <td>2011</td>\n",
       "      <td>автоматическая</td>\n",
       "      <td>3.0</td>\n",
       "      <td>DUPLICATE</td>\n",
       "      <td>задний</td>\n",
       "      <td>LEFT</td>\n",
       "      <td>0</td>\n",
       "      <td>0</td>\n",
       "      <td>200</td>\n",
       "      <td>184</td>\n",
       "      <td>NaN</td>\n",
       "    </tr>\n",
       "    <tr>\n",
       "      <th>123832</th>\n",
       "      <td>Внедорожник 5 дв.</td>\n",
       "      <td>SSANG_YONG</td>\n",
       "      <td>серебристый</td>\n",
       "      <td>2.3</td>\n",
       "      <td>150.0</td>\n",
       "      <td>бензин</td>\n",
       "      <td>62000</td>\n",
       "      <td>2007.0</td>\n",
       "      <td>KYRON</td>\n",
       "      <td>2.3 MT (150 л.с.) 4WD</td>\n",
       "      <td>5.0</td>\n",
       "      <td>2008</td>\n",
       "      <td>механическая</td>\n",
       "      <td>2.0</td>\n",
       "      <td>ORIGINAL</td>\n",
       "      <td>полный</td>\n",
       "      <td>LEFT</td>\n",
       "      <td>1</td>\n",
       "      <td>672</td>\n",
       "      <td>2.3</td>\n",
       "      <td>150</td>\n",
       "      <td>500000.0</td>\n",
       "    </tr>\n",
       "    <tr>\n",
       "      <th>63876</th>\n",
       "      <td>Седан</td>\n",
       "      <td>HYUNDAI</td>\n",
       "      <td>оранжевый</td>\n",
       "      <td>1.6</td>\n",
       "      <td>123.0</td>\n",
       "      <td>бензин</td>\n",
       "      <td>77000</td>\n",
       "      <td>2017.0</td>\n",
       "      <td>SOLARIS</td>\n",
       "      <td>1.6 AT (123 л.с.)</td>\n",
       "      <td>4.0</td>\n",
       "      <td>2017</td>\n",
       "      <td>автоматическая</td>\n",
       "      <td>1.0</td>\n",
       "      <td>ORIGINAL</td>\n",
       "      <td>передний</td>\n",
       "      <td>LEFT</td>\n",
       "      <td>1</td>\n",
       "      <td>353</td>\n",
       "      <td>1.6</td>\n",
       "      <td>123</td>\n",
       "      <td>799999.0</td>\n",
       "    </tr>\n",
       "  </tbody>\n",
       "</table>\n",
       "</div>"
      ],
      "text/plain": [
       "                      bodyType       brand        color engineDisplacement  \\\n",
       "114601  Внедорожник 5 дв. Long  LAND_ROVER       чёрный               Long   \n",
       "123807       Внедорожник 5 дв.  SSANG_YONG       чёрный               2.0d   \n",
       "16077                    седан    MERCEDES       чёрный            1.8 LTR   \n",
       "123832       Внедорожник 5 дв.  SSANG_YONG  серебристый                2.3   \n",
       "63876                    Седан     HYUNDAI    оранжевый                1.6   \n",
       "\n",
       "       enginePower fuelType  mileage  modelDate        model  \\\n",
       "114601       510.0   бензин    60000     2012.0  RANGE_ROVER   \n",
       "123807       141.0   дизель   168000     2005.0        KYRON   \n",
       "16077           18   бензин   230000     2009.0     E_KLASSE   \n",
       "123832       150.0   бензин    62000     2007.0        KYRON   \n",
       "63876        123.0   бензин    77000     2017.0      SOLARIS   \n",
       "\n",
       "                              name  numberOfDoors  productionDate  \\\n",
       "114601  Long 5.0 AT (510 л.с.) 4WD            5.0            2017   \n",
       "123807      2.0d AT (141 л.с.) 4WD            5.0            2007   \n",
       "16077        200 1.8 AT (184 л.с.)            4.0            2011   \n",
       "123832       2.3 MT (150 л.с.) 4WD            5.0            2008   \n",
       "63876            1.6 AT (123 л.с.)            4.0            2017   \n",
       "\n",
       "       vehicleTransmission  Владельцы        ПТС    Привод  Руль  sample  \\\n",
       "114601      автоматическая        2.0   ORIGINAL    полный  LEFT       1   \n",
       "123807      автоматическая        2.0   ORIGINAL    полный  LEFT       1   \n",
       "16077       автоматическая        3.0  DUPLICATE    задний  LEFT       0   \n",
       "123832        механическая        2.0   ORIGINAL    полный  LEFT       1   \n",
       "63876       автоматическая        1.0   ORIGINAL  передний  LEFT       1   \n",
       "\n",
       "        day_old motor_v   LS      price  \n",
       "114601      358     Lon  510  5700000.0  \n",
       "123807      465     2.0  141   480000.0  \n",
       "16077         0     200  184        NaN  \n",
       "123832      672     2.3  150   500000.0  \n",
       "63876       353     1.6  123   799999.0  "
      ]
     },
     "execution_count": 29,
     "metadata": {},
     "output_type": "execute_result"
    }
   ],
   "source": [
    "data = df_test.append(df_train, sort=False).reset_index(\n",
    "    drop=True)  # объединяем\n",
    "data.sample(5)"
   ]
  },
  {
   "cell_type": "code",
   "execution_count": 30,
   "metadata": {
    "execution": {
     "iopub.execute_input": "2021-07-25T16:36:31.526084Z",
     "iopub.status.busy": "2021-07-25T16:36:31.525047Z",
     "iopub.status.idle": "2021-07-25T16:36:31.528319Z",
     "shell.execute_reply": "2021-07-25T16:36:31.527698Z",
     "shell.execute_reply.started": "2021-07-25T16:13:23.815742Z"
    },
    "papermill": {
     "duration": 0.080132,
     "end_time": "2021-07-25T16:36:31.528467",
     "exception": false,
     "start_time": "2021-07-25T16:36:31.448335",
     "status": "completed"
    },
    "tags": []
   },
   "outputs": [],
   "source": [
    "# ['bodyType' , 'brand' , \"'motor_v' , 'LS'\" , 'Владельцы' , 'ПТС', 'model'] - категориальные признаки, шифруем\n",
    "# т.к. у нас очень много категориальных признаков и мы уверены, что они имеют разный вес, использовать мы будем\n",
    "# CATBOOST, предложенный в baseline"
   ]
  },
  {
   "cell_type": "code",
   "execution_count": null,
   "metadata": {
    "papermill": {
     "duration": 0.072757,
     "end_time": "2021-07-25T16:36:31.673767",
     "exception": false,
     "start_time": "2021-07-25T16:36:31.601010",
     "status": "completed"
    },
    "tags": []
   },
   "outputs": [],
   "source": []
  },
  {
   "cell_type": "code",
   "execution_count": 31,
   "metadata": {
    "execution": {
     "iopub.execute_input": "2021-07-25T16:36:31.842227Z",
     "iopub.status.busy": "2021-07-25T16:36:31.840715Z",
     "iopub.status.idle": "2021-07-25T16:36:31.990436Z",
     "shell.execute_reply": "2021-07-25T16:36:31.989665Z",
     "shell.execute_reply.started": "2021-07-25T16:13:23.821318Z"
    },
    "papermill": {
     "duration": 0.243022,
     "end_time": "2021-07-25T16:36:31.990603",
     "exception": false,
     "start_time": "2021-07-25T16:36:31.747581",
     "status": "completed"
    },
    "tags": []
   },
   "outputs": [],
   "source": [
    "cat_cols = ['bodyType', 'brand', 'motor_v', 'LS',\n",
    "            'Владельцы', 'ПТС', 'model', 'engineDisplacement']\n",
    "for colum in cat_cols:\n",
    "    data[colum] = data[colum].astype('category').cat.codes"
   ]
  },
  {
   "cell_type": "code",
   "execution_count": 32,
   "metadata": {
    "execution": {
     "iopub.execute_input": "2021-07-25T16:36:32.145428Z",
     "iopub.status.busy": "2021-07-25T16:36:32.144687Z",
     "iopub.status.idle": "2021-07-25T16:36:32.148837Z",
     "shell.execute_reply": "2021-07-25T16:36:32.149315Z",
     "shell.execute_reply.started": "2021-07-25T16:13:24.017194Z"
    },
    "papermill": {
     "duration": 0.08383,
     "end_time": "2021-07-25T16:36:32.149505",
     "exception": false,
     "start_time": "2021-07-25T16:36:32.065675",
     "status": "completed"
    },
    "tags": []
   },
   "outputs": [
    {
     "data": {
      "text/plain": [
       "['enginePower',\n",
       " 'modelDate',\n",
       " 'productionDate',\n",
       " 'mileage',\n",
       " 'sample',\n",
       " 'price',\n",
       " 'bodyType',\n",
       " 'brand',\n",
       " 'motor_v',\n",
       " 'LS',\n",
       " 'Владельцы',\n",
       " 'ПТС',\n",
       " 'model',\n",
       " 'engineDisplacement']"
      ]
     },
     "execution_count": 32,
     "metadata": {},
     "output_type": "execute_result"
    }
   ],
   "source": [
    "cols_for_cat"
   ]
  },
  {
   "cell_type": "code",
   "execution_count": 33,
   "metadata": {
    "execution": {
     "iopub.execute_input": "2021-07-25T16:36:32.307475Z",
     "iopub.status.busy": "2021-07-25T16:36:32.306701Z",
     "iopub.status.idle": "2021-07-25T16:36:32.377217Z",
     "shell.execute_reply": "2021-07-25T16:36:32.376592Z",
     "shell.execute_reply.started": "2021-07-25T16:13:24.025505Z"
    },
    "papermill": {
     "duration": 0.153005,
     "end_time": "2021-07-25T16:36:32.377415",
     "exception": false,
     "start_time": "2021-07-25T16:36:32.224410",
     "status": "completed"
    },
    "tags": []
   },
   "outputs": [],
   "source": [
    "X = data[cols_for_cat].query('sample == 1').drop(['sample'], axis=1)\n",
    "y = X['price']\n",
    "X.drop('price', axis=1)\n",
    "X_sub = data[cols_for_cat].query('sample == 0').drop(['sample'], axis=1)\n",
    "\n",
    "data['day_old_log'] = np.log(data['day_old'] + np.ones(len(data['day_old'])))\n",
    "day_old = data[['day_old', 'day_old_log', 'sample']].query(\n",
    "    'sample == 1').drop(['sample'], axis=1)"
   ]
  },
  {
   "cell_type": "code",
   "execution_count": 34,
   "metadata": {
    "execution": {
     "iopub.execute_input": "2021-07-25T16:36:32.535284Z",
     "iopub.status.busy": "2021-07-25T16:36:32.531881Z",
     "iopub.status.idle": "2021-07-25T16:36:32.557398Z",
     "shell.execute_reply": "2021-07-25T16:36:32.556745Z",
     "shell.execute_reply.started": "2021-07-25T16:13:24.120350Z"
    },
    "papermill": {
     "duration": 0.105239,
     "end_time": "2021-07-25T16:36:32.557546",
     "exception": false,
     "start_time": "2021-07-25T16:36:32.452307",
     "status": "completed"
    },
    "tags": []
   },
   "outputs": [],
   "source": [
    "X_train, X_test, y_train, y_test, day_old_train, day_old_test = train_test_split(\n",
    "    X, y, day_old, test_size=VAL_SIZE, shuffle=True, random_state=RANDOM_SEED)"
   ]
  },
  {
   "cell_type": "code",
   "execution_count": 35,
   "metadata": {
    "execution": {
     "iopub.execute_input": "2021-07-25T16:36:32.716832Z",
     "iopub.status.busy": "2021-07-25T16:36:32.713827Z",
     "iopub.status.idle": "2021-07-25T16:36:32.720167Z",
     "shell.execute_reply": "2021-07-25T16:36:32.719606Z",
     "shell.execute_reply.started": "2021-07-25T16:13:24.157388Z"
    },
    "papermill": {
     "duration": 0.089024,
     "end_time": "2021-07-25T16:36:32.720305",
     "exception": false,
     "start_time": "2021-07-25T16:36:32.631281",
     "status": "completed"
    },
    "tags": []
   },
   "outputs": [],
   "source": [
    "X_sub = X_sub.drop('price', axis=1)\n",
    "X = X.drop('price', axis=1)"
   ]
  },
  {
   "cell_type": "code",
   "execution_count": 36,
   "metadata": {
    "execution": {
     "iopub.execute_input": "2021-07-25T16:36:32.881504Z",
     "iopub.status.busy": "2021-07-25T16:36:32.880531Z",
     "iopub.status.idle": "2021-07-25T16:36:32.884298Z",
     "shell.execute_reply": "2021-07-25T16:36:32.884718Z",
     "shell.execute_reply.started": "2021-07-25T16:13:24.177238Z"
    },
    "papermill": {
     "duration": 0.091203,
     "end_time": "2021-07-25T16:36:32.884895",
     "exception": false,
     "start_time": "2021-07-25T16:36:32.793692",
     "status": "completed"
    },
    "tags": []
   },
   "outputs": [
    {
     "data": {
      "text/html": [
       "<div>\n",
       "<style scoped>\n",
       "    .dataframe tbody tr th:only-of-type {\n",
       "        vertical-align: middle;\n",
       "    }\n",
       "\n",
       "    .dataframe tbody tr th {\n",
       "        vertical-align: top;\n",
       "    }\n",
       "\n",
       "    .dataframe thead th {\n",
       "        text-align: right;\n",
       "    }\n",
       "</style>\n",
       "<table border=\"1\" class=\"dataframe\">\n",
       "  <thead>\n",
       "    <tr style=\"text-align: right;\">\n",
       "      <th></th>\n",
       "      <th>enginePower</th>\n",
       "      <th>modelDate</th>\n",
       "      <th>productionDate</th>\n",
       "      <th>mileage</th>\n",
       "      <th>bodyType</th>\n",
       "      <th>brand</th>\n",
       "      <th>motor_v</th>\n",
       "      <th>LS</th>\n",
       "      <th>Владельцы</th>\n",
       "      <th>ПТС</th>\n",
       "      <th>model</th>\n",
       "      <th>engineDisplacement</th>\n",
       "    </tr>\n",
       "  </thead>\n",
       "  <tbody>\n",
       "    <tr>\n",
       "      <th>24582</th>\n",
       "      <td>10</td>\n",
       "      <td>2004.0</td>\n",
       "      <td>2008</td>\n",
       "      <td>198000</td>\n",
       "      <td>173</td>\n",
       "      <td>34</td>\n",
       "      <td>313</td>\n",
       "      <td>6</td>\n",
       "      <td>3</td>\n",
       "      <td>2</td>\n",
       "      <td>194</td>\n",
       "      <td>38</td>\n",
       "    </tr>\n",
       "  </tbody>\n",
       "</table>\n",
       "</div>"
      ],
      "text/plain": [
       "      enginePower  modelDate  productionDate  mileage  bodyType  brand  \\\n",
       "24582          10     2004.0            2008   198000       173     34   \n",
       "\n",
       "       motor_v  LS  Владельцы  ПТС  model  engineDisplacement  \n",
       "24582      313   6          3    2    194                  38  "
      ]
     },
     "execution_count": 36,
     "metadata": {},
     "output_type": "execute_result"
    }
   ],
   "source": [
    "X_sub.sample(1)"
   ]
  },
  {
   "cell_type": "code",
   "execution_count": 37,
   "metadata": {
    "execution": {
     "iopub.execute_input": "2021-07-25T16:36:33.041566Z",
     "iopub.status.busy": "2021-07-25T16:36:33.040803Z",
     "iopub.status.idle": "2021-07-25T16:36:33.055385Z",
     "shell.execute_reply": "2021-07-25T16:36:33.055851Z",
     "shell.execute_reply.started": "2021-07-25T16:13:24.197531Z"
    },
    "papermill": {
     "duration": 0.09521,
     "end_time": "2021-07-25T16:36:33.056056",
     "exception": false,
     "start_time": "2021-07-25T16:36:32.960846",
     "status": "completed"
    },
    "tags": []
   },
   "outputs": [
    {
     "name": "stdout",
     "output_type": "stream",
     "text": [
      "Точность наивной модели по метрике MAPE: inf%\n"
     ]
    }
   ],
   "source": [
    "# Находим median по экземплярам engineDisplacement в трейне и размечаем тест\n",
    "# мы разбили признак на 2 числовых, один из них и возьмем\n",
    "tmp_train = X_train.copy()\n",
    "predict = X_test['engineDisplacement'].map(\n",
    "    tmp_train.groupby('engineDisplacement')['price'].median())\n",
    "# print(predict)\n",
    "# оцениваем точность\n",
    "print(\n",
    "    f\"Точность наивной модели по метрике MAPE: {(mape(y_test, predict.values))*100:0.2f}%\")"
   ]
  },
  {
   "cell_type": "markdown",
   "metadata": {
    "papermill": {
     "duration": 0.074121,
     "end_time": "2021-07-25T16:36:33.204236",
     "exception": false,
     "start_time": "2021-07-25T16:36:33.130115",
     "status": "completed"
    },
    "tags": []
   },
   "source": [
    "## base model on catboost"
   ]
  },
  {
   "cell_type": "code",
   "execution_count": 38,
   "metadata": {
    "execution": {
     "iopub.execute_input": "2021-07-25T16:36:33.359876Z",
     "iopub.status.busy": "2021-07-25T16:36:33.359231Z",
     "iopub.status.idle": "2021-07-25T16:36:33.362630Z",
     "shell.execute_reply": "2021-07-25T16:36:33.361999Z",
     "shell.execute_reply.started": "2021-07-25T16:13:24.229449Z"
    },
    "papermill": {
     "duration": 0.083827,
     "end_time": "2021-07-25T16:36:33.362768",
     "exception": false,
     "start_time": "2021-07-25T16:36:33.278941",
     "status": "completed"
    },
    "tags": []
   },
   "outputs": [],
   "source": [
    "model = CatBoostRegressor(iterations=5000,\n",
    "                          random_seed=RANDOM_SEED,\n",
    "                          eval_metric='MAPE',\n",
    "                          custom_metric=['R2', 'MAE'],\n",
    "                          silent=True,\n",
    "                          )"
   ]
  },
  {
   "cell_type": "code",
   "execution_count": 39,
   "metadata": {
    "execution": {
     "iopub.execute_input": "2021-07-25T16:36:33.544612Z",
     "iopub.status.busy": "2021-07-25T16:36:33.543827Z",
     "iopub.status.idle": "2021-07-25T16:37:17.694699Z",
     "shell.execute_reply": "2021-07-25T16:37:17.693648Z",
     "shell.execute_reply.started": "2021-07-25T16:13:24.238730Z"
    },
    "papermill": {
     "duration": 44.258259,
     "end_time": "2021-07-25T16:37:17.694881",
     "exception": false,
     "start_time": "2021-07-25T16:36:33.436622",
     "status": "completed"
    },
    "tags": []
   },
   "outputs": [],
   "source": [
    "model.fit(X_train.drop('price', axis=1), y_train,\n",
    "          # cat_features=cat_features_ids,\n",
    "          #eval_set=(X_test, y_test),\n",
    "          # verbose_eval=0,\n",
    "          # use_best_model=True,\n",
    "          # plot=True\n",
    "          )\n",
    "\n",
    "model.save_model('catboost_single_model_baseline.model')"
   ]
  },
  {
   "cell_type": "code",
   "execution_count": 40,
   "metadata": {
    "execution": {
     "iopub.execute_input": "2021-07-25T16:37:17.848057Z",
     "iopub.status.busy": "2021-07-25T16:37:17.847368Z",
     "iopub.status.idle": "2021-07-25T16:37:17.909710Z",
     "shell.execute_reply": "2021-07-25T16:37:17.910360Z",
     "shell.execute_reply.started": "2021-07-25T16:14:11.015217Z"
    },
    "papermill": {
     "duration": 0.139992,
     "end_time": "2021-07-25T16:37:17.910546",
     "exception": false,
     "start_time": "2021-07-25T16:37:17.770554",
     "status": "completed"
    },
    "tags": []
   },
   "outputs": [
    {
     "name": "stdout",
     "output_type": "stream",
     "text": [
      "Точность модели по метрике MAPE: inf%\n"
     ]
    }
   ],
   "source": [
    "# оцениваем точность\n",
    "predict = model.predict(X_test)\n",
    "print(f\"Точность модели по метрике MAPE: {(mape(y_test, predict))*100:0.2f}%\")"
   ]
  },
  {
   "cell_type": "code",
   "execution_count": 41,
   "metadata": {
    "execution": {
     "iopub.execute_input": "2021-07-25T16:37:18.062725Z",
     "iopub.status.busy": "2021-07-25T16:37:18.062050Z",
     "iopub.status.idle": "2021-07-25T16:37:18.068129Z",
     "shell.execute_reply": "2021-07-25T16:37:18.068668Z",
     "shell.execute_reply.started": "2021-07-25T16:14:11.087778Z"
    },
    "papermill": {
     "duration": 0.084005,
     "end_time": "2021-07-25T16:37:18.068836",
     "exception": false,
     "start_time": "2021-07-25T16:37:17.984831",
     "status": "completed"
    },
    "tags": []
   },
   "outputs": [
    {
     "data": {
      "text/plain": [
       "1.0121712394914197"
      ]
     },
     "execution_count": 41,
     "metadata": {},
     "output_type": "execute_result"
    }
   ],
   "source": [
    "np.mean(y_test / predict)\n",
    "# точность -inf и y_test / predict близкий к еденице говорят нам о том, что можель на валидации дает минимальную ошибку\n",
    "# но, зная о разныце данных в трейне и тесте, мы считаем эту модель переобученной и будем строить ансамбль"
   ]
  },
  {
   "cell_type": "markdown",
   "metadata": {
    "papermill": {
     "duration": 0.075065,
     "end_time": "2021-07-25T16:37:18.219911",
     "exception": false,
     "start_time": "2021-07-25T16:37:18.144846",
     "status": "completed"
    },
    "tags": []
   },
   "source": [
    "## Ансамблирование\n"
   ]
  },
  {
   "cell_type": "code",
   "execution_count": 42,
   "metadata": {
    "execution": {
     "iopub.execute_input": "2021-07-25T16:37:18.372364Z",
     "iopub.status.busy": "2021-07-25T16:37:18.371712Z",
     "iopub.status.idle": "2021-07-25T16:37:18.553919Z",
     "shell.execute_reply": "2021-07-25T16:37:18.553164Z",
     "shell.execute_reply.started": "2021-07-25T16:14:11.096186Z"
    },
    "papermill": {
     "duration": 0.259716,
     "end_time": "2021-07-25T16:37:18.554116",
     "exception": false,
     "start_time": "2021-07-25T16:37:18.294400",
     "status": "completed"
    },
    "tags": []
   },
   "outputs": [],
   "source": [
    "from sklearn.tree import DecisionTreeClassifier\n",
    "from sklearn.linear_model import LogisticRegression\n",
    "from sklearn.ensemble import BaggingClassifier\n",
    "from sklearn.ensemble import RandomForestRegressor\n",
    "from sklearn.model_selection import RandomizedSearchCV"
   ]
  },
  {
   "cell_type": "code",
   "execution_count": 43,
   "metadata": {
    "execution": {
     "iopub.execute_input": "2021-07-25T16:37:18.711752Z",
     "iopub.status.busy": "2021-07-25T16:37:18.711103Z",
     "iopub.status.idle": "2021-07-25T16:37:18.714168Z",
     "shell.execute_reply": "2021-07-25T16:37:18.713615Z",
     "shell.execute_reply.started": "2021-07-25T16:14:11.112867Z"
    },
    "papermill": {
     "duration": 0.084569,
     "end_time": "2021-07-25T16:37:18.714322",
     "exception": false,
     "start_time": "2021-07-25T16:37:18.629753",
     "status": "completed"
    },
    "tags": []
   },
   "outputs": [],
   "source": [
    "TREE = DecisionTreeClassifier(max_depth=10, random_state=RANDOM_SEED)\n",
    "LR = LogisticRegression(random_state=RANDOM_SEED)\n",
    "BAGG = BaggingClassifier(base_estimator=DecisionTreeClassifier(\n",
    "    random_state=RANDOM_SEED), n_estimators=1500, random_state=RANDOM_SEED)"
   ]
  },
  {
   "cell_type": "code",
   "execution_count": 44,
   "metadata": {
    "execution": {
     "iopub.execute_input": "2021-07-25T16:37:18.869959Z",
     "iopub.status.busy": "2021-07-25T16:37:18.869219Z",
     "iopub.status.idle": "2021-07-25T16:37:18.873744Z",
     "shell.execute_reply": "2021-07-25T16:37:18.873045Z",
     "shell.execute_reply.started": "2021-07-25T16:14:11.127556Z"
    },
    "papermill": {
     "duration": 0.083864,
     "end_time": "2021-07-25T16:37:18.873889",
     "exception": false,
     "start_time": "2021-07-25T16:37:18.790025",
     "status": "completed"
    },
    "tags": []
   },
   "outputs": [
    {
     "data": {
      "text/plain": [
       "'for model in (TREE , LR , BAGG):\\n    model.fit(X_train, y_train)\\n    y_pred = model.predict(X_test)\\n    print(model , mape(y_test , y_pred), np.mean(y_test/y_pred))'"
      ]
     },
     "execution_count": 44,
     "metadata": {},
     "output_type": "execute_result"
    }
   ],
   "source": [
    "'''for model in (TREE , LR , BAGG):\n",
    "    model.fit(X_train, y_train)\n",
    "    y_pred = model.predict(X_test)\n",
    "    print(model , mape(y_test , y_pred), np.mean(y_test/y_pred))'''"
   ]
  },
  {
   "cell_type": "markdown",
   "metadata": {
    "papermill": {
     "duration": 0.074927,
     "end_time": "2021-07-25T16:37:19.025022",
     "exception": false,
     "start_time": "2021-07-25T16:37:18.950095",
     "status": "completed"
    },
    "tags": []
   },
   "source": [
    "мой компьютер не потянул LR & BAGG, так что в ансамбль берем только TREE"
   ]
  },
  {
   "cell_type": "code",
   "execution_count": 45,
   "metadata": {
    "execution": {
     "iopub.execute_input": "2021-07-25T16:37:19.184651Z",
     "iopub.status.busy": "2021-07-25T16:37:19.183920Z",
     "iopub.status.idle": "2021-07-25T16:37:25.796304Z",
     "shell.execute_reply": "2021-07-25T16:37:25.795723Z",
     "shell.execute_reply.started": "2021-07-25T16:14:11.148717Z"
    },
    "papermill": {
     "duration": 6.696718,
     "end_time": "2021-07-25T16:37:25.796468",
     "exception": false,
     "start_time": "2021-07-25T16:37:19.099750",
     "status": "completed"
    },
    "tags": []
   },
   "outputs": [
    {
     "name": "stdout",
     "output_type": "stream",
     "text": [
      "<catboost.core.CatBoostRegressor object at 0x7f2f822e2b90> inf 1.0121712394914197\n"
     ]
    }
   ],
   "source": [
    "TREE.fit(X_train, y_train)\n",
    "y_pred = model.predict(X_test)\n",
    "print(model, mape(y_test, y_pred), np.mean(y_test/y_pred))"
   ]
  },
  {
   "cell_type": "markdown",
   "metadata": {
    "papermill": {
     "duration": 0.075161,
     "end_time": "2021-07-25T16:37:25.946912",
     "exception": false,
     "start_time": "2021-07-25T16:37:25.871751",
     "status": "completed"
    },
    "tags": []
   },
   "source": [
    "Your notebook tried to allocate more memory than is available. It has restarted.\n",
    "к сожалению, эфиктивность лр и бэггинга мы не узнаем"
   ]
  },
  {
   "cell_type": "code",
   "execution_count": 46,
   "metadata": {
    "execution": {
     "iopub.execute_input": "2021-07-25T16:37:26.106722Z",
     "iopub.status.busy": "2021-07-25T16:37:26.105955Z",
     "iopub.status.idle": "2021-07-25T16:37:26.109145Z",
     "shell.execute_reply": "2021-07-25T16:37:26.108595Z",
     "shell.execute_reply.started": "2021-07-25T16:14:17.802988Z"
    },
    "papermill": {
     "duration": 0.085753,
     "end_time": "2021-07-25T16:37:26.109292",
     "exception": false,
     "start_time": "2021-07-25T16:37:26.023539",
     "status": "completed"
    },
    "tags": []
   },
   "outputs": [],
   "source": [
    "rf = RandomForestRegressor(random_state=RANDOM_SEED,\n",
    "                           n_estimators=100, bootstrap=True)\n",
    "max_features = ['auto', 'sqrt']\n",
    "min_samples_split = [2, 5, 10]\n",
    "min_samples_leaf = [1, 2, 4]\n",
    "bootstrap = [True, False]\n",
    "random_grid = {'max_features': max_features,\n",
    "               'min_samples_split': min_samples_split,\n",
    "               'min_samples_leaf': min_samples_leaf,\n",
    "               'bootstrap': bootstrap}"
   ]
  },
  {
   "cell_type": "code",
   "execution_count": 47,
   "metadata": {
    "execution": {
     "iopub.execute_input": "2021-07-25T16:37:26.264830Z",
     "iopub.status.busy": "2021-07-25T16:37:26.264208Z",
     "iopub.status.idle": "2021-07-25T16:37:26.266930Z",
     "shell.execute_reply": "2021-07-25T16:37:26.266438Z",
     "shell.execute_reply.started": "2021-07-25T16:14:17.812554Z"
    },
    "papermill": {
     "duration": 0.081715,
     "end_time": "2021-07-25T16:37:26.267083",
     "exception": false,
     "start_time": "2021-07-25T16:37:26.185368",
     "status": "completed"
    },
    "tags": []
   },
   "outputs": [],
   "source": [
    "#rf = RandomForestRegressor(random_state=42)\n",
    "# rf_random = RandomizedSearchCV(estimator=rf, param_distributions=random_grid, n_iter=10,\n",
    "#                               cv=3, verbose=2, random_state=42, n_jobs=-1)\n",
    "#rf_random.fit(X_train, y_train)"
   ]
  },
  {
   "cell_type": "code",
   "execution_count": 48,
   "metadata": {
    "execution": {
     "iopub.execute_input": "2021-07-25T16:37:26.421953Z",
     "iopub.status.busy": "2021-07-25T16:37:26.421318Z",
     "iopub.status.idle": "2021-07-25T16:37:26.423578Z",
     "shell.execute_reply": "2021-07-25T16:37:26.424082Z",
     "shell.execute_reply.started": "2021-07-25T16:14:17.826995Z"
    },
    "papermill": {
     "duration": 0.081751,
     "end_time": "2021-07-25T16:37:26.424250",
     "exception": false,
     "start_time": "2021-07-25T16:37:26.342499",
     "status": "completed"
    },
    "tags": []
   },
   "outputs": [],
   "source": [
    "# случайный лес из склерн выдает лучший результат с параметрами:\n",
    "# rf_random.best_params_\n",
    "# бутстрап мы, следовательно, будем использовать только на КатБусте о яндекса, РФрегрессия будет строиться без него\n",
    "# подставляем в РФР нужные параметры, строим предикт и ансамблируем предсказания"
   ]
  },
  {
   "cell_type": "code",
   "execution_count": 49,
   "metadata": {
    "execution": {
     "iopub.execute_input": "2021-07-25T16:37:26.580245Z",
     "iopub.status.busy": "2021-07-25T16:37:26.579473Z",
     "iopub.status.idle": "2021-07-25T16:37:26.582547Z",
     "shell.execute_reply": "2021-07-25T16:37:26.582043Z",
     "shell.execute_reply.started": "2021-07-25T16:14:17.842101Z"
    },
    "papermill": {
     "duration": 0.082941,
     "end_time": "2021-07-25T16:37:26.582692",
     "exception": false,
     "start_time": "2021-07-25T16:37:26.499751",
     "status": "completed"
    },
    "tags": []
   },
   "outputs": [],
   "source": [
    "rf = RandomForestRegressor(random_state=RANDOM_SEED, min_samples_split=2,\n",
    "                           min_samples_leaf=2, max_features='auto', bootstrap=False)"
   ]
  },
  {
   "cell_type": "code",
   "execution_count": 50,
   "metadata": {
    "execution": {
     "iopub.execute_input": "2021-07-25T16:37:26.741194Z",
     "iopub.status.busy": "2021-07-25T16:37:26.740488Z",
     "iopub.status.idle": "2021-07-25T16:38:19.565784Z",
     "shell.execute_reply": "2021-07-25T16:38:19.566557Z",
     "shell.execute_reply.started": "2021-07-25T16:14:17.854796Z"
    },
    "papermill": {
     "duration": 52.908749,
     "end_time": "2021-07-25T16:38:19.566855",
     "exception": false,
     "start_time": "2021-07-25T16:37:26.658106",
     "status": "completed"
    },
    "tags": []
   },
   "outputs": [
    {
     "name": "stdout",
     "output_type": "stream",
     "text": [
      "0.00011164965111563476 0.9999936024731954\n"
     ]
    }
   ],
   "source": [
    "rf.fit(X_train, y_train)\n",
    "y_pred = rf.predict(X_test)\n",
    "print(mape(y_test, y_pred), np.mean(y_test/y_pred))"
   ]
  },
  {
   "cell_type": "code",
   "execution_count": null,
   "metadata": {
    "papermill": {
     "duration": 0.07595,
     "end_time": "2021-07-25T16:38:19.719432",
     "exception": false,
     "start_time": "2021-07-25T16:38:19.643482",
     "status": "completed"
    },
    "tags": []
   },
   "outputs": [],
   "source": []
  },
  {
   "cell_type": "markdown",
   "metadata": {
    "papermill": {
     "duration": 0.076195,
     "end_time": "2021-07-25T16:38:19.872748",
     "exception": false,
     "start_time": "2021-07-25T16:38:19.796553",
     "status": "completed"
    },
    "tags": []
   },
   "source": [
    "## АНСАМБЛИРУЕМ\n"
   ]
  },
  {
   "cell_type": "markdown",
   "metadata": {
    "papermill": {
     "duration": 0.076903,
     "end_time": "2021-07-25T16:38:20.028103",
     "exception": false,
     "start_time": "2021-07-25T16:38:19.951200",
     "status": "completed"
    },
    "tags": []
   },
   "source": [
    "для ансамблирования берем предикты 3х отработавших моделей, фичи и используем самый подходящий(в теории) в таких случаях метод - регрессия"
   ]
  },
  {
   "cell_type": "code",
   "execution_count": 51,
   "metadata": {
    "execution": {
     "iopub.execute_input": "2021-07-25T16:38:20.187134Z",
     "iopub.status.busy": "2021-07-25T16:38:20.186417Z",
     "iopub.status.idle": "2021-07-25T16:38:20.189530Z",
     "shell.execute_reply": "2021-07-25T16:38:20.188893Z",
     "shell.execute_reply.started": "2021-07-25T16:15:12.940205Z"
    },
    "papermill": {
     "duration": 0.084314,
     "end_time": "2021-07-25T16:38:20.189677",
     "exception": false,
     "start_time": "2021-07-25T16:38:20.105363",
     "status": "completed"
    },
    "tags": []
   },
   "outputs": [],
   "source": [
    "from sklearn.linear_model import LinearRegression"
   ]
  },
  {
   "cell_type": "code",
   "execution_count": 52,
   "metadata": {
    "execution": {
     "iopub.execute_input": "2021-07-25T16:38:20.346195Z",
     "iopub.status.busy": "2021-07-25T16:38:20.345523Z",
     "iopub.status.idle": "2021-07-25T16:38:20.349053Z",
     "shell.execute_reply": "2021-07-25T16:38:20.349584Z",
     "shell.execute_reply.started": "2021-07-25T16:15:12.948129Z"
    },
    "papermill": {
     "duration": 0.083004,
     "end_time": "2021-07-25T16:38:20.349749",
     "exception": false,
     "start_time": "2021-07-25T16:38:20.266745",
     "status": "completed"
    },
    "tags": []
   },
   "outputs": [],
   "source": [
    "MODELS = [TREE, rf, model]\n",
    "# как дополнительные фичи мы возьмем только давность обьявления в разных видах\n",
    "FITS = ['day_old', 'day_old_log']"
   ]
  },
  {
   "cell_type": "code",
   "execution_count": 53,
   "metadata": {
    "execution": {
     "iopub.execute_input": "2021-07-25T16:38:20.509853Z",
     "iopub.status.busy": "2021-07-25T16:38:20.509188Z",
     "iopub.status.idle": "2021-07-25T16:38:20.513240Z",
     "shell.execute_reply": "2021-07-25T16:38:20.512661Z",
     "shell.execute_reply.started": "2021-07-25T16:15:12.986290Z"
    },
    "papermill": {
     "duration": 0.087771,
     "end_time": "2021-07-25T16:38:20.513403",
     "exception": false,
     "start_time": "2021-07-25T16:38:20.425632",
     "status": "completed"
    },
    "tags": []
   },
   "outputs": [],
   "source": [
    "ans_X = pd.DataFrame({'ones': np.ones(len(X_sub))})\n",
    "ans_tr_X = pd.DataFrame({'ones': np.ones(len(X_test))})"
   ]
  },
  {
   "cell_type": "code",
   "execution_count": 54,
   "metadata": {
    "execution": {
     "iopub.execute_input": "2021-07-25T16:38:20.731575Z",
     "iopub.status.busy": "2021-07-25T16:38:20.730426Z",
     "iopub.status.idle": "2021-07-25T16:38:20.740921Z",
     "shell.execute_reply": "2021-07-25T16:38:20.740274Z",
     "shell.execute_reply.started": "2021-07-25T16:15:13.008137Z"
    },
    "papermill": {
     "duration": 0.093206,
     "end_time": "2021-07-25T16:38:20.741073",
     "exception": false,
     "start_time": "2021-07-25T16:38:20.647867",
     "status": "completed"
    },
    "tags": []
   },
   "outputs": [],
   "source": [
    "X_train[['day_old', 'day_old_log']] = day_old_train\n",
    "X_test[['day_old', 'day_old_log']] = day_old_test\n",
    "X_sub['day_old'] = np.ones(len(X_sub))\n",
    "X_sub['day_old_log'] = np.ones(len(X_sub))\n",
    "X[['day_old', 'day_old_log']] = day_old"
   ]
  },
  {
   "cell_type": "code",
   "execution_count": 55,
   "metadata": {
    "execution": {
     "iopub.execute_input": "2021-07-25T16:38:20.918379Z",
     "iopub.status.busy": "2021-07-25T16:38:20.912300Z",
     "iopub.status.idle": "2021-07-25T16:38:20.957627Z",
     "shell.execute_reply": "2021-07-25T16:38:20.956959Z",
     "shell.execute_reply.started": "2021-07-25T16:15:13.032503Z"
    },
    "papermill": {
     "duration": 0.139384,
     "end_time": "2021-07-25T16:38:20.957776",
     "exception": false,
     "start_time": "2021-07-25T16:38:20.818392",
     "status": "completed"
    },
    "tags": []
   },
   "outputs": [
    {
     "data": {
      "text/html": [
       "<div>\n",
       "<style scoped>\n",
       "    .dataframe tbody tr th:only-of-type {\n",
       "        vertical-align: middle;\n",
       "    }\n",
       "\n",
       "    .dataframe tbody tr th {\n",
       "        vertical-align: top;\n",
       "    }\n",
       "\n",
       "    .dataframe thead th {\n",
       "        text-align: right;\n",
       "    }\n",
       "</style>\n",
       "<table border=\"1\" class=\"dataframe\">\n",
       "  <thead>\n",
       "    <tr style=\"text-align: right;\">\n",
       "      <th></th>\n",
       "      <th>enginePower</th>\n",
       "      <th>modelDate</th>\n",
       "      <th>productionDate</th>\n",
       "      <th>mileage</th>\n",
       "      <th>bodyType</th>\n",
       "      <th>brand</th>\n",
       "      <th>motor_v</th>\n",
       "      <th>LS</th>\n",
       "      <th>Владельцы</th>\n",
       "      <th>ПТС</th>\n",
       "      <th>model</th>\n",
       "      <th>engineDisplacement</th>\n",
       "      <th>day_old</th>\n",
       "      <th>day_old_log</th>\n",
       "    </tr>\n",
       "  </thead>\n",
       "  <tbody>\n",
       "    <tr>\n",
       "      <th>0</th>\n",
       "      <td>10</td>\n",
       "      <td>2013.0</td>\n",
       "      <td>2014</td>\n",
       "      <td>74000</td>\n",
       "      <td>177</td>\n",
       "      <td>29</td>\n",
       "      <td>5</td>\n",
       "      <td>6</td>\n",
       "      <td>3</td>\n",
       "      <td>2</td>\n",
       "      <td>684</td>\n",
       "      <td>12</td>\n",
       "      <td>1.0</td>\n",
       "      <td>1.0</td>\n",
       "    </tr>\n",
       "    <tr>\n",
       "      <th>1</th>\n",
       "      <td>11</td>\n",
       "      <td>2017.0</td>\n",
       "      <td>2017</td>\n",
       "      <td>60563</td>\n",
       "      <td>177</td>\n",
       "      <td>29</td>\n",
       "      <td>9</td>\n",
       "      <td>13</td>\n",
       "      <td>0</td>\n",
       "      <td>2</td>\n",
       "      <td>684</td>\n",
       "      <td>28</td>\n",
       "      <td>1.0</td>\n",
       "      <td>1.0</td>\n",
       "    </tr>\n",
       "    <tr>\n",
       "      <th>2</th>\n",
       "      <td>15</td>\n",
       "      <td>2013.0</td>\n",
       "      <td>2014</td>\n",
       "      <td>88000</td>\n",
       "      <td>177</td>\n",
       "      <td>29</td>\n",
       "      <td>241</td>\n",
       "      <td>59</td>\n",
       "      <td>0</td>\n",
       "      <td>2</td>\n",
       "      <td>919</td>\n",
       "      <td>34</td>\n",
       "      <td>1.0</td>\n",
       "      <td>1.0</td>\n",
       "    </tr>\n",
       "    <tr>\n",
       "      <th>3</th>\n",
       "      <td>11</td>\n",
       "      <td>2013.0</td>\n",
       "      <td>2014</td>\n",
       "      <td>95000</td>\n",
       "      <td>177</td>\n",
       "      <td>29</td>\n",
       "      <td>9</td>\n",
       "      <td>13</td>\n",
       "      <td>0</td>\n",
       "      <td>2</td>\n",
       "      <td>684</td>\n",
       "      <td>28</td>\n",
       "      <td>1.0</td>\n",
       "      <td>1.0</td>\n",
       "    </tr>\n",
       "    <tr>\n",
       "      <th>4</th>\n",
       "      <td>15</td>\n",
       "      <td>2008.0</td>\n",
       "      <td>2012</td>\n",
       "      <td>58536</td>\n",
       "      <td>177</td>\n",
       "      <td>29</td>\n",
       "      <td>11</td>\n",
       "      <td>59</td>\n",
       "      <td>0</td>\n",
       "      <td>2</td>\n",
       "      <td>684</td>\n",
       "      <td>34</td>\n",
       "      <td>1.0</td>\n",
       "      <td>1.0</td>\n",
       "    </tr>\n",
       "    <tr>\n",
       "      <th>...</th>\n",
       "      <td>...</td>\n",
       "      <td>...</td>\n",
       "      <td>...</td>\n",
       "      <td>...</td>\n",
       "      <td>...</td>\n",
       "      <td>...</td>\n",
       "      <td>...</td>\n",
       "      <td>...</td>\n",
       "      <td>...</td>\n",
       "      <td>...</td>\n",
       "      <td>...</td>\n",
       "      <td>...</td>\n",
       "      <td>...</td>\n",
       "      <td>...</td>\n",
       "    </tr>\n",
       "    <tr>\n",
       "      <th>34681</th>\n",
       "      <td>13</td>\n",
       "      <td>2011.0</td>\n",
       "      <td>2014</td>\n",
       "      <td>115000</td>\n",
       "      <td>184</td>\n",
       "      <td>1</td>\n",
       "      <td>85</td>\n",
       "      <td>43</td>\n",
       "      <td>3</td>\n",
       "      <td>2</td>\n",
       "      <td>45</td>\n",
       "      <td>28</td>\n",
       "      <td>1.0</td>\n",
       "      <td>1.0</td>\n",
       "    </tr>\n",
       "    <tr>\n",
       "      <th>34682</th>\n",
       "      <td>19</td>\n",
       "      <td>2016.0</td>\n",
       "      <td>2018</td>\n",
       "      <td>98000</td>\n",
       "      <td>184</td>\n",
       "      <td>1</td>\n",
       "      <td>147</td>\n",
       "      <td>97</td>\n",
       "      <td>0</td>\n",
       "      <td>2</td>\n",
       "      <td>60</td>\n",
       "      <td>72</td>\n",
       "      <td>1.0</td>\n",
       "      <td>1.0</td>\n",
       "    </tr>\n",
       "    <tr>\n",
       "      <th>34683</th>\n",
       "      <td>17</td>\n",
       "      <td>1995.0</td>\n",
       "      <td>1997</td>\n",
       "      <td>360000</td>\n",
       "      <td>184</td>\n",
       "      <td>1</td>\n",
       "      <td>148</td>\n",
       "      <td>77</td>\n",
       "      <td>3</td>\n",
       "      <td>1</td>\n",
       "      <td>60</td>\n",
       "      <td>90</td>\n",
       "      <td>1.0</td>\n",
       "      <td>1.0</td>\n",
       "    </tr>\n",
       "    <tr>\n",
       "      <th>34684</th>\n",
       "      <td>18</td>\n",
       "      <td>2012.0</td>\n",
       "      <td>2013</td>\n",
       "      <td>90500</td>\n",
       "      <td>170</td>\n",
       "      <td>1</td>\n",
       "      <td>52</td>\n",
       "      <td>91</td>\n",
       "      <td>1</td>\n",
       "      <td>2</td>\n",
       "      <td>1053</td>\n",
       "      <td>72</td>\n",
       "      <td>1.0</td>\n",
       "      <td>1.0</td>\n",
       "    </tr>\n",
       "    <tr>\n",
       "      <th>34685</th>\n",
       "      <td>23</td>\n",
       "      <td>2006.0</td>\n",
       "      <td>2008</td>\n",
       "      <td>240000</td>\n",
       "      <td>170</td>\n",
       "      <td>1</td>\n",
       "      <td>81</td>\n",
       "      <td>138</td>\n",
       "      <td>3</td>\n",
       "      <td>2</td>\n",
       "      <td>1059</td>\n",
       "      <td>133</td>\n",
       "      <td>1.0</td>\n",
       "      <td>1.0</td>\n",
       "    </tr>\n",
       "  </tbody>\n",
       "</table>\n",
       "<p>34686 rows × 14 columns</p>\n",
       "</div>"
      ],
      "text/plain": [
       "      enginePower  modelDate  productionDate  mileage  bodyType  brand  \\\n",
       "0              10     2013.0            2014    74000       177     29   \n",
       "1              11     2017.0            2017    60563       177     29   \n",
       "2              15     2013.0            2014    88000       177     29   \n",
       "3              11     2013.0            2014    95000       177     29   \n",
       "4              15     2008.0            2012    58536       177     29   \n",
       "...           ...        ...             ...      ...       ...    ...   \n",
       "34681          13     2011.0            2014   115000       184      1   \n",
       "34682          19     2016.0            2018    98000       184      1   \n",
       "34683          17     1995.0            1997   360000       184      1   \n",
       "34684          18     2012.0            2013    90500       170      1   \n",
       "34685          23     2006.0            2008   240000       170      1   \n",
       "\n",
       "       motor_v   LS  Владельцы  ПТС  model  engineDisplacement  day_old  \\\n",
       "0            5    6          3    2    684                  12      1.0   \n",
       "1            9   13          0    2    684                  28      1.0   \n",
       "2          241   59          0    2    919                  34      1.0   \n",
       "3            9   13          0    2    684                  28      1.0   \n",
       "4           11   59          0    2    684                  34      1.0   \n",
       "...        ...  ...        ...  ...    ...                 ...      ...   \n",
       "34681       85   43          3    2     45                  28      1.0   \n",
       "34682      147   97          0    2     60                  72      1.0   \n",
       "34683      148   77          3    1     60                  90      1.0   \n",
       "34684       52   91          1    2   1053                  72      1.0   \n",
       "34685       81  138          3    2   1059                 133      1.0   \n",
       "\n",
       "       day_old_log  \n",
       "0              1.0  \n",
       "1              1.0  \n",
       "2              1.0  \n",
       "3              1.0  \n",
       "4              1.0  \n",
       "...            ...  \n",
       "34681          1.0  \n",
       "34682          1.0  \n",
       "34683          1.0  \n",
       "34684          1.0  \n",
       "34685          1.0  \n",
       "\n",
       "[34686 rows x 14 columns]"
      ]
     },
     "metadata": {},
     "output_type": "display_data"
    },
    {
     "data": {
      "text/html": [
       "<div>\n",
       "<style scoped>\n",
       "    .dataframe tbody tr th:only-of-type {\n",
       "        vertical-align: middle;\n",
       "    }\n",
       "\n",
       "    .dataframe tbody tr th {\n",
       "        vertical-align: top;\n",
       "    }\n",
       "\n",
       "    .dataframe thead th {\n",
       "        text-align: right;\n",
       "    }\n",
       "</style>\n",
       "<table border=\"1\" class=\"dataframe\">\n",
       "  <thead>\n",
       "    <tr style=\"text-align: right;\">\n",
       "      <th></th>\n",
       "      <th>enginePower</th>\n",
       "      <th>modelDate</th>\n",
       "      <th>productionDate</th>\n",
       "      <th>mileage</th>\n",
       "      <th>bodyType</th>\n",
       "      <th>brand</th>\n",
       "      <th>motor_v</th>\n",
       "      <th>LS</th>\n",
       "      <th>Владельцы</th>\n",
       "      <th>ПТС</th>\n",
       "      <th>model</th>\n",
       "      <th>engineDisplacement</th>\n",
       "      <th>day_old</th>\n",
       "      <th>day_old_log</th>\n",
       "    </tr>\n",
       "  </thead>\n",
       "  <tbody>\n",
       "    <tr>\n",
       "      <th>34686</th>\n",
       "      <td>174.0</td>\n",
       "      <td>1990.0</td>\n",
       "      <td>1991</td>\n",
       "      <td>350000</td>\n",
       "      <td>103</td>\n",
       "      <td>0</td>\n",
       "      <td>49</td>\n",
       "      <td>82</td>\n",
       "      <td>3</td>\n",
       "      <td>2</td>\n",
       "      <td>1</td>\n",
       "      <td>99</td>\n",
       "      <td>661</td>\n",
       "      <td>6.495266</td>\n",
       "    </tr>\n",
       "    <tr>\n",
       "      <th>34687</th>\n",
       "      <td>90.0</td>\n",
       "      <td>1982.0</td>\n",
       "      <td>1986</td>\n",
       "      <td>173424</td>\n",
       "      <td>103</td>\n",
       "      <td>0</td>\n",
       "      <td>11</td>\n",
       "      <td>401</td>\n",
       "      <td>3</td>\n",
       "      <td>2</td>\n",
       "      <td>1</td>\n",
       "      <td>33</td>\n",
       "      <td>322</td>\n",
       "      <td>5.777652</td>\n",
       "    </tr>\n",
       "    <tr>\n",
       "      <th>34688</th>\n",
       "      <td>136.0</td>\n",
       "      <td>1988.0</td>\n",
       "      <td>1989</td>\n",
       "      <td>230000</td>\n",
       "      <td>126</td>\n",
       "      <td>0</td>\n",
       "      <td>44</td>\n",
       "      <td>43</td>\n",
       "      <td>3</td>\n",
       "      <td>2</td>\n",
       "      <td>1</td>\n",
       "      <td>81</td>\n",
       "      <td>326</td>\n",
       "      <td>5.789960</td>\n",
       "    </tr>\n",
       "    <tr>\n",
       "      <th>34689</th>\n",
       "      <td>90.0</td>\n",
       "      <td>1988.0</td>\n",
       "      <td>1989</td>\n",
       "      <td>240000</td>\n",
       "      <td>103</td>\n",
       "      <td>0</td>\n",
       "      <td>11</td>\n",
       "      <td>401</td>\n",
       "      <td>3</td>\n",
       "      <td>2</td>\n",
       "      <td>1</td>\n",
       "      <td>33</td>\n",
       "      <td>336</td>\n",
       "      <td>5.820083</td>\n",
       "    </tr>\n",
       "    <tr>\n",
       "      <th>34690</th>\n",
       "      <td>101.0</td>\n",
       "      <td>1990.0</td>\n",
       "      <td>1991</td>\n",
       "      <td>300000</td>\n",
       "      <td>103</td>\n",
       "      <td>0</td>\n",
       "      <td>41</td>\n",
       "      <td>2</td>\n",
       "      <td>3</td>\n",
       "      <td>1</td>\n",
       "      <td>1</td>\n",
       "      <td>71</td>\n",
       "      <td>320</td>\n",
       "      <td>5.771441</td>\n",
       "    </tr>\n",
       "    <tr>\n",
       "      <th>...</th>\n",
       "      <td>...</td>\n",
       "      <td>...</td>\n",
       "      <td>...</td>\n",
       "      <td>...</td>\n",
       "      <td>...</td>\n",
       "      <td>...</td>\n",
       "      <td>...</td>\n",
       "      <td>...</td>\n",
       "      <td>...</td>\n",
       "      <td>...</td>\n",
       "      <td>...</td>\n",
       "      <td>...</td>\n",
       "      <td>...</td>\n",
       "      <td>...</td>\n",
       "    </tr>\n",
       "    <tr>\n",
       "      <th>124059</th>\n",
       "      <td>163.0</td>\n",
       "      <td>2004.0</td>\n",
       "      <td>2006</td>\n",
       "      <td>260000</td>\n",
       "      <td>58</td>\n",
       "      <td>30</td>\n",
       "      <td>48</td>\n",
       "      <td>70</td>\n",
       "      <td>3</td>\n",
       "      <td>2</td>\n",
       "      <td>806</td>\n",
       "      <td>98</td>\n",
       "      <td>530</td>\n",
       "      <td>6.274762</td>\n",
       "    </tr>\n",
       "    <tr>\n",
       "      <th>124060</th>\n",
       "      <td>163.0</td>\n",
       "      <td>2004.0</td>\n",
       "      <td>2007</td>\n",
       "      <td>300000</td>\n",
       "      <td>58</td>\n",
       "      <td>30</td>\n",
       "      <td>48</td>\n",
       "      <td>70</td>\n",
       "      <td>3</td>\n",
       "      <td>2</td>\n",
       "      <td>806</td>\n",
       "      <td>98</td>\n",
       "      <td>421</td>\n",
       "      <td>6.045005</td>\n",
       "    </tr>\n",
       "    <tr>\n",
       "      <th>124061</th>\n",
       "      <td>149.0</td>\n",
       "      <td>2013.0</td>\n",
       "      <td>2014</td>\n",
       "      <td>126000</td>\n",
       "      <td>58</td>\n",
       "      <td>30</td>\n",
       "      <td>41</td>\n",
       "      <td>56</td>\n",
       "      <td>0</td>\n",
       "      <td>2</td>\n",
       "      <td>909</td>\n",
       "      <td>73</td>\n",
       "      <td>329</td>\n",
       "      <td>5.799093</td>\n",
       "    </tr>\n",
       "    <tr>\n",
       "      <th>124062</th>\n",
       "      <td>149.0</td>\n",
       "      <td>2013.0</td>\n",
       "      <td>2013</td>\n",
       "      <td>84000</td>\n",
       "      <td>58</td>\n",
       "      <td>30</td>\n",
       "      <td>41</td>\n",
       "      <td>56</td>\n",
       "      <td>3</td>\n",
       "      <td>2</td>\n",
       "      <td>909</td>\n",
       "      <td>73</td>\n",
       "      <td>803</td>\n",
       "      <td>6.689599</td>\n",
       "    </tr>\n",
       "    <tr>\n",
       "      <th>124063</th>\n",
       "      <td>149.0</td>\n",
       "      <td>2013.0</td>\n",
       "      <td>2014</td>\n",
       "      <td>144000</td>\n",
       "      <td>58</td>\n",
       "      <td>30</td>\n",
       "      <td>41</td>\n",
       "      <td>56</td>\n",
       "      <td>1</td>\n",
       "      <td>2</td>\n",
       "      <td>909</td>\n",
       "      <td>73</td>\n",
       "      <td>349</td>\n",
       "      <td>5.857933</td>\n",
       "    </tr>\n",
       "  </tbody>\n",
       "</table>\n",
       "<p>89378 rows × 14 columns</p>\n",
       "</div>"
      ],
      "text/plain": [
       "       enginePower  modelDate  productionDate  mileage  bodyType  brand  \\\n",
       "34686        174.0     1990.0            1991   350000       103      0   \n",
       "34687         90.0     1982.0            1986   173424       103      0   \n",
       "34688        136.0     1988.0            1989   230000       126      0   \n",
       "34689         90.0     1988.0            1989   240000       103      0   \n",
       "34690        101.0     1990.0            1991   300000       103      0   \n",
       "...            ...        ...             ...      ...       ...    ...   \n",
       "124059       163.0     2004.0            2006   260000        58     30   \n",
       "124060       163.0     2004.0            2007   300000        58     30   \n",
       "124061       149.0     2013.0            2014   126000        58     30   \n",
       "124062       149.0     2013.0            2013    84000        58     30   \n",
       "124063       149.0     2013.0            2014   144000        58     30   \n",
       "\n",
       "        motor_v   LS  Владельцы  ПТС  model  engineDisplacement  day_old  \\\n",
       "34686        49   82          3    2      1                  99      661   \n",
       "34687        11  401          3    2      1                  33      322   \n",
       "34688        44   43          3    2      1                  81      326   \n",
       "34689        11  401          3    2      1                  33      336   \n",
       "34690        41    2          3    1      1                  71      320   \n",
       "...         ...  ...        ...  ...    ...                 ...      ...   \n",
       "124059       48   70          3    2    806                  98      530   \n",
       "124060       48   70          3    2    806                  98      421   \n",
       "124061       41   56          0    2    909                  73      329   \n",
       "124062       41   56          3    2    909                  73      803   \n",
       "124063       41   56          1    2    909                  73      349   \n",
       "\n",
       "        day_old_log  \n",
       "34686      6.495266  \n",
       "34687      5.777652  \n",
       "34688      5.789960  \n",
       "34689      5.820083  \n",
       "34690      5.771441  \n",
       "...             ...  \n",
       "124059     6.274762  \n",
       "124060     6.045005  \n",
       "124061     5.799093  \n",
       "124062     6.689599  \n",
       "124063     5.857933  \n",
       "\n",
       "[89378 rows x 14 columns]"
      ]
     },
     "metadata": {},
     "output_type": "display_data"
    }
   ],
   "source": [
    "display(X_sub)\n",
    "display(X)"
   ]
  },
  {
   "cell_type": "code",
   "execution_count": 56,
   "metadata": {
    "execution": {
     "iopub.execute_input": "2021-07-25T16:38:21.123963Z",
     "iopub.status.busy": "2021-07-25T16:38:21.122468Z",
     "iopub.status.idle": "2021-07-25T16:40:26.585150Z",
     "shell.execute_reply": "2021-07-25T16:40:26.585681Z",
     "shell.execute_reply.started": "2021-07-25T16:15:13.095774Z"
    },
    "papermill": {
     "duration": 125.550005,
     "end_time": "2021-07-25T16:40:26.585865",
     "exception": false,
     "start_time": "2021-07-25T16:38:21.035860",
     "status": "completed"
    },
    "tags": []
   },
   "outputs": [
    {
     "name": "stdout",
     "output_type": "stream",
     "text": [
      "       ones  DecisionTreeClassifier(max_depth=10, random_state=40)_pred  \\\n",
      "0       1.0                                           900000.0            \n",
      "1       1.0                                           500000.0            \n",
      "2       1.0                                          1350000.0            \n",
      "3       1.0                                           240000.0            \n",
      "4       1.0                                          1350000.0            \n",
      "...     ...                                                ...            \n",
      "17871   1.0                                           580000.0            \n",
      "17872   1.0                                           165000.0            \n",
      "17873   1.0                                           600000.0            \n",
      "17874   1.0                                           140000.0            \n",
      "17875   1.0                                           340000.0            \n",
      "\n",
      "       RandomForestRegressor(bootstrap=False, min_samples_leaf=2, random_state=40)_pred  \\\n",
      "0                                              945000.00                                  \n",
      "1                                              500000.00                                  \n",
      "2                                             7291710.72                                  \n",
      "3                                              245000.00                                  \n",
      "4                                             2405000.00                                  \n",
      "...                                                  ...                                  \n",
      "17871                                          579000.00                                  \n",
      "17872                                          165000.00                                  \n",
      "17873                                          600000.00                                  \n",
      "17874                                          140000.00                                  \n",
      "17875                                          340000.00                                  \n",
      "\n",
      "       <catboost.core.CatBoostRegressor object at 0x7f2f822e2b90>_pred  \n",
      "0                                           9.475044e+05                \n",
      "1                                           5.000121e+05                \n",
      "2                                           7.242424e+06                \n",
      "3                                           2.502774e+05                \n",
      "4                                           2.405173e+06                \n",
      "...                                                  ...                \n",
      "17871                                       5.863824e+05                \n",
      "17872                                       1.696126e+05                \n",
      "17873                                       5.986805e+05                \n",
      "17874                                       1.363773e+05                \n",
      "17875                                       3.349563e+05                \n",
      "\n",
      "[17876 rows x 4 columns]\n"
     ]
    }
   ],
   "source": [
    "for model in MODELS:\n",
    "    model.fit(X_train, y_train)\n",
    "    ans_tr_X[f'{model}_pred'] = model.predict(X_test)\n",
    "print(ans_tr_X)"
   ]
  },
  {
   "cell_type": "code",
   "execution_count": 57,
   "metadata": {
    "execution": {
     "iopub.execute_input": "2021-07-25T16:40:26.759608Z",
     "iopub.status.busy": "2021-07-25T16:40:26.758482Z",
     "iopub.status.idle": "2021-07-25T16:40:26.763932Z",
     "shell.execute_reply": "2021-07-25T16:40:26.762848Z",
     "shell.execute_reply.started": "2021-07-25T16:30:23.361786Z"
    },
    "papermill": {
     "duration": 0.0979,
     "end_time": "2021-07-25T16:40:26.764120",
     "exception": false,
     "start_time": "2021-07-25T16:40:26.666220",
     "status": "completed"
    },
    "tags": []
   },
   "outputs": [
    {
     "data": {
      "text/html": [
       "<div>\n",
       "<style scoped>\n",
       "    .dataframe tbody tr th:only-of-type {\n",
       "        vertical-align: middle;\n",
       "    }\n",
       "\n",
       "    .dataframe tbody tr th {\n",
       "        vertical-align: top;\n",
       "    }\n",
       "\n",
       "    .dataframe thead th {\n",
       "        text-align: right;\n",
       "    }\n",
       "</style>\n",
       "<table border=\"1\" class=\"dataframe\">\n",
       "  <thead>\n",
       "    <tr style=\"text-align: right;\">\n",
       "      <th></th>\n",
       "      <th>day_old</th>\n",
       "      <th>day_old_log</th>\n",
       "    </tr>\n",
       "  </thead>\n",
       "  <tbody>\n",
       "    <tr>\n",
       "      <th>97794</th>\n",
       "      <td>519</td>\n",
       "      <td>6.253829</td>\n",
       "    </tr>\n",
       "    <tr>\n",
       "      <th>97234</th>\n",
       "      <td>1166</td>\n",
       "      <td>7.062192</td>\n",
       "    </tr>\n",
       "    <tr>\n",
       "      <th>54069</th>\n",
       "      <td>320</td>\n",
       "      <td>5.771441</td>\n",
       "    </tr>\n",
       "    <tr>\n",
       "      <th>77699</th>\n",
       "      <td>325</td>\n",
       "      <td>5.786897</td>\n",
       "    </tr>\n",
       "    <tr>\n",
       "      <th>103027</th>\n",
       "      <td>327</td>\n",
       "      <td>5.793014</td>\n",
       "    </tr>\n",
       "    <tr>\n",
       "      <th>...</th>\n",
       "      <td>...</td>\n",
       "      <td>...</td>\n",
       "    </tr>\n",
       "    <tr>\n",
       "      <th>96467</th>\n",
       "      <td>452</td>\n",
       "      <td>6.115892</td>\n",
       "    </tr>\n",
       "    <tr>\n",
       "      <th>94490</th>\n",
       "      <td>322</td>\n",
       "      <td>5.777652</td>\n",
       "    </tr>\n",
       "    <tr>\n",
       "      <th>82820</th>\n",
       "      <td>412</td>\n",
       "      <td>6.023448</td>\n",
       "    </tr>\n",
       "    <tr>\n",
       "      <th>76268</th>\n",
       "      <td>330</td>\n",
       "      <td>5.802118</td>\n",
       "    </tr>\n",
       "    <tr>\n",
       "      <th>56671</th>\n",
       "      <td>521</td>\n",
       "      <td>6.257668</td>\n",
       "    </tr>\n",
       "  </tbody>\n",
       "</table>\n",
       "<p>17876 rows × 2 columns</p>\n",
       "</div>"
      ],
      "text/plain": [
       "        day_old  day_old_log\n",
       "97794       519     6.253829\n",
       "97234      1166     7.062192\n",
       "54069       320     5.771441\n",
       "77699       325     5.786897\n",
       "103027      327     5.793014\n",
       "...         ...          ...\n",
       "96467       452     6.115892\n",
       "94490       322     5.777652\n",
       "82820       412     6.023448\n",
       "76268       330     5.802118\n",
       "56671       521     6.257668\n",
       "\n",
       "[17876 rows x 2 columns]"
      ]
     },
     "execution_count": 57,
     "metadata": {},
     "output_type": "execute_result"
    }
   ],
   "source": [
    "day_old_test"
   ]
  },
  {
   "cell_type": "code",
   "execution_count": 58,
   "metadata": {
    "execution": {
     "iopub.execute_input": "2021-07-25T16:40:26.955695Z",
     "iopub.status.busy": "2021-07-25T16:40:26.935619Z",
     "iopub.status.idle": "2021-07-25T16:40:26.970296Z",
     "shell.execute_reply": "2021-07-25T16:40:26.969381Z",
     "shell.execute_reply.started": "2021-07-25T16:33:58.417173Z"
    },
    "papermill": {
     "duration": 0.118734,
     "end_time": "2021-07-25T16:40:26.970452",
     "exception": false,
     "start_time": "2021-07-25T16:40:26.851718",
     "status": "completed"
    },
    "tags": []
   },
   "outputs": [
    {
     "data": {
      "text/html": [
       "<div>\n",
       "<style scoped>\n",
       "    .dataframe tbody tr th:only-of-type {\n",
       "        vertical-align: middle;\n",
       "    }\n",
       "\n",
       "    .dataframe tbody tr th {\n",
       "        vertical-align: top;\n",
       "    }\n",
       "\n",
       "    .dataframe thead th {\n",
       "        text-align: right;\n",
       "    }\n",
       "</style>\n",
       "<table border=\"1\" class=\"dataframe\">\n",
       "  <thead>\n",
       "    <tr style=\"text-align: right;\">\n",
       "      <th></th>\n",
       "      <th>ones</th>\n",
       "      <th>DecisionTreeClassifier(max_depth=10, random_state=40)_pred</th>\n",
       "      <th>RandomForestRegressor(bootstrap=False, min_samples_leaf=2, random_state=40)_pred</th>\n",
       "      <th>&lt;catboost.core.CatBoostRegressor object at 0x7f2f822e2b90&gt;_pred</th>\n",
       "      <th>day_old</th>\n",
       "      <th>day_old_log</th>\n",
       "    </tr>\n",
       "  </thead>\n",
       "  <tbody>\n",
       "    <tr>\n",
       "      <th>0</th>\n",
       "      <td>1.0</td>\n",
       "      <td>900000.0</td>\n",
       "      <td>945000.00</td>\n",
       "      <td>9.475044e+05</td>\n",
       "      <td>519.0</td>\n",
       "      <td>6.253829</td>\n",
       "    </tr>\n",
       "    <tr>\n",
       "      <th>1</th>\n",
       "      <td>1.0</td>\n",
       "      <td>500000.0</td>\n",
       "      <td>500000.00</td>\n",
       "      <td>5.000121e+05</td>\n",
       "      <td>1166.0</td>\n",
       "      <td>7.062192</td>\n",
       "    </tr>\n",
       "    <tr>\n",
       "      <th>2</th>\n",
       "      <td>1.0</td>\n",
       "      <td>1350000.0</td>\n",
       "      <td>7291710.72</td>\n",
       "      <td>7.242424e+06</td>\n",
       "      <td>320.0</td>\n",
       "      <td>5.771441</td>\n",
       "    </tr>\n",
       "    <tr>\n",
       "      <th>3</th>\n",
       "      <td>1.0</td>\n",
       "      <td>240000.0</td>\n",
       "      <td>245000.00</td>\n",
       "      <td>2.502774e+05</td>\n",
       "      <td>325.0</td>\n",
       "      <td>5.786897</td>\n",
       "    </tr>\n",
       "    <tr>\n",
       "      <th>4</th>\n",
       "      <td>1.0</td>\n",
       "      <td>1350000.0</td>\n",
       "      <td>2405000.00</td>\n",
       "      <td>2.405173e+06</td>\n",
       "      <td>327.0</td>\n",
       "      <td>5.793014</td>\n",
       "    </tr>\n",
       "    <tr>\n",
       "      <th>...</th>\n",
       "      <td>...</td>\n",
       "      <td>...</td>\n",
       "      <td>...</td>\n",
       "      <td>...</td>\n",
       "      <td>...</td>\n",
       "      <td>...</td>\n",
       "    </tr>\n",
       "    <tr>\n",
       "      <th>17871</th>\n",
       "      <td>1.0</td>\n",
       "      <td>580000.0</td>\n",
       "      <td>579000.00</td>\n",
       "      <td>5.863824e+05</td>\n",
       "      <td>452.0</td>\n",
       "      <td>6.115892</td>\n",
       "    </tr>\n",
       "    <tr>\n",
       "      <th>17872</th>\n",
       "      <td>1.0</td>\n",
       "      <td>165000.0</td>\n",
       "      <td>165000.00</td>\n",
       "      <td>1.696126e+05</td>\n",
       "      <td>322.0</td>\n",
       "      <td>5.777652</td>\n",
       "    </tr>\n",
       "    <tr>\n",
       "      <th>17873</th>\n",
       "      <td>1.0</td>\n",
       "      <td>600000.0</td>\n",
       "      <td>600000.00</td>\n",
       "      <td>5.986805e+05</td>\n",
       "      <td>412.0</td>\n",
       "      <td>6.023448</td>\n",
       "    </tr>\n",
       "    <tr>\n",
       "      <th>17874</th>\n",
       "      <td>1.0</td>\n",
       "      <td>140000.0</td>\n",
       "      <td>140000.00</td>\n",
       "      <td>1.363773e+05</td>\n",
       "      <td>330.0</td>\n",
       "      <td>5.802118</td>\n",
       "    </tr>\n",
       "    <tr>\n",
       "      <th>17875</th>\n",
       "      <td>1.0</td>\n",
       "      <td>340000.0</td>\n",
       "      <td>340000.00</td>\n",
       "      <td>3.349563e+05</td>\n",
       "      <td>521.0</td>\n",
       "      <td>6.257668</td>\n",
       "    </tr>\n",
       "  </tbody>\n",
       "</table>\n",
       "<p>17876 rows × 6 columns</p>\n",
       "</div>"
      ],
      "text/plain": [
       "       ones  DecisionTreeClassifier(max_depth=10, random_state=40)_pred  \\\n",
       "0       1.0                                           900000.0            \n",
       "1       1.0                                           500000.0            \n",
       "2       1.0                                          1350000.0            \n",
       "3       1.0                                           240000.0            \n",
       "4       1.0                                          1350000.0            \n",
       "...     ...                                                ...            \n",
       "17871   1.0                                           580000.0            \n",
       "17872   1.0                                           165000.0            \n",
       "17873   1.0                                           600000.0            \n",
       "17874   1.0                                           140000.0            \n",
       "17875   1.0                                           340000.0            \n",
       "\n",
       "       RandomForestRegressor(bootstrap=False, min_samples_leaf=2, random_state=40)_pred  \\\n",
       "0                                              945000.00                                  \n",
       "1                                              500000.00                                  \n",
       "2                                             7291710.72                                  \n",
       "3                                              245000.00                                  \n",
       "4                                             2405000.00                                  \n",
       "...                                                  ...                                  \n",
       "17871                                          579000.00                                  \n",
       "17872                                          165000.00                                  \n",
       "17873                                          600000.00                                  \n",
       "17874                                          140000.00                                  \n",
       "17875                                          340000.00                                  \n",
       "\n",
       "       <catboost.core.CatBoostRegressor object at 0x7f2f822e2b90>_pred  \\\n",
       "0                                           9.475044e+05                 \n",
       "1                                           5.000121e+05                 \n",
       "2                                           7.242424e+06                 \n",
       "3                                           2.502774e+05                 \n",
       "4                                           2.405173e+06                 \n",
       "...                                                  ...                 \n",
       "17871                                       5.863824e+05                 \n",
       "17872                                       1.696126e+05                 \n",
       "17873                                       5.986805e+05                 \n",
       "17874                                       1.363773e+05                 \n",
       "17875                                       3.349563e+05                 \n",
       "\n",
       "       day_old  day_old_log  \n",
       "0        519.0     6.253829  \n",
       "1       1166.0     7.062192  \n",
       "2        320.0     5.771441  \n",
       "3        325.0     5.786897  \n",
       "4        327.0     5.793014  \n",
       "...        ...          ...  \n",
       "17871    452.0     6.115892  \n",
       "17872    322.0     5.777652  \n",
       "17873    412.0     6.023448  \n",
       "17874    330.0     5.802118  \n",
       "17875    521.0     6.257668  \n",
       "\n",
       "[17876 rows x 6 columns]"
      ]
     },
     "execution_count": 58,
     "metadata": {},
     "output_type": "execute_result"
    }
   ],
   "source": [
    "#ans_tr_X[['day_old', 'day_old_log']] = day_old_test.values\n",
    "# ans_tr_X"
   ]
  },
  {
   "cell_type": "code",
   "execution_count": 59,
   "metadata": {
    "execution": {
     "iopub.execute_input": "2021-07-25T16:40:27.137677Z",
     "iopub.status.busy": "2021-07-25T16:40:27.135079Z",
     "iopub.status.idle": "2021-07-25T16:43:05.346363Z",
     "shell.execute_reply": "2021-07-25T16:43:05.347181Z",
     "shell.execute_reply.started": "2021-07-25T16:17:23.028624Z"
    },
    "papermill": {
     "duration": 158.296802,
     "end_time": "2021-07-25T16:43:05.347428",
     "exception": false,
     "start_time": "2021-07-25T16:40:27.050626",
     "status": "completed"
    },
    "tags": []
   },
   "outputs": [
    {
     "name": "stdout",
     "output_type": "stream",
     "text": [
      "       ones  DecisionTreeClassifier(max_depth=10, random_state=40)_pred  \\\n",
      "0       1.0                                           450000.0            \n",
      "1       1.0                                           650000.0            \n",
      "2       1.0                                           450000.0            \n",
      "3       1.0                                           450000.0            \n",
      "4       1.0                                           350000.0            \n",
      "...     ...                                                ...            \n",
      "34681   1.0                                           850000.0            \n",
      "34682   1.0                                           650000.0            \n",
      "34683   1.0                                           100000.0            \n",
      "34684   1.0                                           850000.0            \n",
      "34685   1.0                                           350000.0            \n",
      "\n",
      "       RandomForestRegressor(bootstrap=False, min_samples_leaf=2, random_state=40)_pred  \\\n",
      "0                                               576250.0                                  \n",
      "1                                               603440.0                                  \n",
      "2                                               915940.0                                  \n",
      "3                                               576250.0                                  \n",
      "4                                               445000.0                                  \n",
      "...                                                  ...                                  \n",
      "34681                                           575025.0                                  \n",
      "34682                                          1430000.0                                  \n",
      "34683                                           345650.0                                  \n",
      "34684                                           467910.0                                  \n",
      "34685                                            97500.0                                  \n",
      "\n",
      "       <catboost.core.CatBoostRegressor object at 0x7f2f822e2b90>_pred  \n",
      "0                                           4.152700e+05                \n",
      "1                                           6.500854e+05                \n",
      "2                                           1.385634e+06                \n",
      "3                                           4.234062e+05                \n",
      "4                                           4.473896e+05                \n",
      "...                                                  ...                \n",
      "34681                                       5.763569e+05                \n",
      "34682                                       1.538953e+06                \n",
      "34683                                       9.982313e+04                \n",
      "34684                                       6.773486e+05                \n",
      "34685                                       5.783683e+05                \n",
      "\n",
      "[34686 rows x 4 columns]\n"
     ]
    }
   ],
   "source": [
    "for model in MODELS:\n",
    "    model.fit(X, y)\n",
    "    ans_X[f'{model}_pred'] = model.predict(X_sub)\n",
    "print(ans_X)"
   ]
  },
  {
   "cell_type": "code",
   "execution_count": 60,
   "metadata": {
    "execution": {
     "iopub.execute_input": "2021-07-25T16:43:05.517287Z",
     "iopub.status.busy": "2021-07-25T16:43:05.515187Z",
     "iopub.status.idle": "2021-07-25T16:43:05.529611Z",
     "shell.execute_reply": "2021-07-25T16:43:05.529055Z",
     "shell.execute_reply.started": "2021-07-25T16:25:24.331330Z"
    },
    "papermill": {
     "duration": 0.101215,
     "end_time": "2021-07-25T16:43:05.529754",
     "exception": false,
     "start_time": "2021-07-25T16:43:05.428539",
     "status": "completed"
    },
    "tags": []
   },
   "outputs": [
    {
     "name": "stdout",
     "output_type": "stream",
     "text": [
      "       ones  DecisionTreeClassifier(max_depth=10, random_state=40)_pred  \\\n",
      "0       1.0                                           450000.0            \n",
      "1       1.0                                           650000.0            \n",
      "2       1.0                                           450000.0            \n",
      "3       1.0                                           450000.0            \n",
      "4       1.0                                           350000.0            \n",
      "...     ...                                                ...            \n",
      "34681   1.0                                           850000.0            \n",
      "34682   1.0                                           650000.0            \n",
      "34683   1.0                                           100000.0            \n",
      "34684   1.0                                           850000.0            \n",
      "34685   1.0                                           350000.0            \n",
      "\n",
      "       RandomForestRegressor(bootstrap=False, min_samples_leaf=2, random_state=40)_pred  \\\n",
      "0                                               576250.0                                  \n",
      "1                                               603440.0                                  \n",
      "2                                               915940.0                                  \n",
      "3                                               576250.0                                  \n",
      "4                                               445000.0                                  \n",
      "...                                                  ...                                  \n",
      "34681                                           575025.0                                  \n",
      "34682                                          1430000.0                                  \n",
      "34683                                           345650.0                                  \n",
      "34684                                           467910.0                                  \n",
      "34685                                            97500.0                                  \n",
      "\n",
      "       <catboost.core.CatBoostRegressor object at 0x7f2f822e2b90>_pred  \\\n",
      "0                                           4.152700e+05                 \n",
      "1                                           6.500854e+05                 \n",
      "2                                           1.385634e+06                 \n",
      "3                                           4.234062e+05                 \n",
      "4                                           4.473896e+05                 \n",
      "...                                                  ...                 \n",
      "34681                                       5.763569e+05                 \n",
      "34682                                       1.538953e+06                 \n",
      "34683                                       9.982313e+04                 \n",
      "34684                                       6.773486e+05                 \n",
      "34685                                       5.783683e+05                 \n",
      "\n",
      "       day_old  day_old_log  \n",
      "0            0            0  \n",
      "1            0            0  \n",
      "2            0            0  \n",
      "3            0            0  \n",
      "4            0            0  \n",
      "...        ...          ...  \n",
      "34681        0            0  \n",
      "34682        0            0  \n",
      "34683        0            0  \n",
      "34684        0            0  \n",
      "34685        0            0  \n",
      "\n",
      "[34686 rows x 6 columns]\n"
     ]
    }
   ],
   "source": [
    "#ans_X[['day_old', 'day_old_log']] = 0\n",
    "# print(ans_X)"
   ]
  },
  {
   "cell_type": "code",
   "execution_count": 61,
   "metadata": {
    "execution": {
     "iopub.execute_input": "2021-07-25T16:43:05.696488Z",
     "iopub.status.busy": "2021-07-25T16:43:05.695760Z",
     "iopub.status.idle": "2021-07-25T16:43:05.699371Z",
     "shell.execute_reply": "2021-07-25T16:43:05.698701Z",
     "shell.execute_reply.started": "2021-07-25T16:34:43.316381Z"
    },
    "papermill": {
     "duration": 0.089086,
     "end_time": "2021-07-25T16:43:05.699516",
     "exception": false,
     "start_time": "2021-07-25T16:43:05.610430",
     "status": "completed"
    },
    "tags": []
   },
   "outputs": [],
   "source": [
    "LR = LinearRegression(normalize=False, copy_X=True, n_jobs=-1)"
   ]
  },
  {
   "cell_type": "code",
   "execution_count": 62,
   "metadata": {
    "execution": {
     "iopub.execute_input": "2021-07-25T16:43:05.867222Z",
     "iopub.status.busy": "2021-07-25T16:43:05.866526Z",
     "iopub.status.idle": "2021-07-25T16:43:06.065634Z",
     "shell.execute_reply": "2021-07-25T16:43:06.065094Z",
     "shell.execute_reply.started": "2021-07-25T16:34:43.856884Z"
    },
    "papermill": {
     "duration": 0.285374,
     "end_time": "2021-07-25T16:43:06.065778",
     "exception": false,
     "start_time": "2021-07-25T16:43:05.780404",
     "status": "completed"
    },
    "tags": []
   },
   "outputs": [
    {
     "data": {
      "text/plain": [
       "LinearRegression(n_jobs=-1)"
      ]
     },
     "execution_count": 62,
     "metadata": {},
     "output_type": "execute_result"
    }
   ],
   "source": [
    "LR.fit(ans_tr_X, y_test)"
   ]
  },
  {
   "cell_type": "code",
   "execution_count": 63,
   "metadata": {
    "execution": {
     "iopub.execute_input": "2021-07-25T16:43:06.234318Z",
     "iopub.status.busy": "2021-07-25T16:43:06.233618Z",
     "iopub.status.idle": "2021-07-25T16:43:06.241878Z",
     "shell.execute_reply": "2021-07-25T16:43:06.242696Z",
     "shell.execute_reply.started": "2021-07-25T16:34:45.578315Z"
    },
    "papermill": {
     "duration": 0.09671,
     "end_time": "2021-07-25T16:43:06.243012",
     "exception": false,
     "start_time": "2021-07-25T16:43:06.146302",
     "status": "completed"
    },
    "tags": []
   },
   "outputs": [],
   "source": [
    "y_sub = LR.predict(ans_X)"
   ]
  },
  {
   "cell_type": "code",
   "execution_count": 64,
   "metadata": {
    "execution": {
     "iopub.execute_input": "2021-07-25T16:43:06.469983Z",
     "iopub.status.busy": "2021-07-25T16:43:06.469223Z",
     "iopub.status.idle": "2021-07-25T16:43:06.474046Z",
     "shell.execute_reply": "2021-07-25T16:43:06.473522Z",
     "shell.execute_reply.started": "2021-07-25T16:34:46.438093Z"
    },
    "papermill": {
     "duration": 0.093151,
     "end_time": "2021-07-25T16:43:06.474187",
     "exception": false,
     "start_time": "2021-07-25T16:43:06.381036",
     "status": "completed"
    },
    "tags": []
   },
   "outputs": [
    {
     "data": {
      "text/plain": [
       "array([579612.63150887, 601798.240206  , 905494.35996098, ...,\n",
       "       351388.19838919, 462127.01842161,  86298.32768763])"
      ]
     },
     "execution_count": 64,
     "metadata": {},
     "output_type": "execute_result"
    }
   ],
   "source": [
    "y_sub"
   ]
  },
  {
   "cell_type": "code",
   "execution_count": 65,
   "metadata": {
    "execution": {
     "iopub.execute_input": "2021-07-25T16:43:06.642038Z",
     "iopub.status.busy": "2021-07-25T16:43:06.641320Z",
     "iopub.status.idle": "2021-07-25T16:43:06.791546Z",
     "shell.execute_reply": "2021-07-25T16:43:06.790956Z",
     "shell.execute_reply.started": "2021-07-25T16:35:25.157099Z"
    },
    "papermill": {
     "duration": 0.23668,
     "end_time": "2021-07-25T16:43:06.791684",
     "exception": false,
     "start_time": "2021-07-25T16:43:06.555004",
     "status": "completed"
    },
    "tags": []
   },
   "outputs": [
    {
     "data": {
      "text/html": [
       "<div>\n",
       "<style scoped>\n",
       "    .dataframe tbody tr th:only-of-type {\n",
       "        vertical-align: middle;\n",
       "    }\n",
       "\n",
       "    .dataframe tbody tr th {\n",
       "        vertical-align: top;\n",
       "    }\n",
       "\n",
       "    .dataframe thead th {\n",
       "        text-align: right;\n",
       "    }\n",
       "</style>\n",
       "<table border=\"1\" class=\"dataframe\">\n",
       "  <thead>\n",
       "    <tr style=\"text-align: right;\">\n",
       "      <th></th>\n",
       "      <th>sell_id</th>\n",
       "      <th>price</th>\n",
       "    </tr>\n",
       "  </thead>\n",
       "  <tbody>\n",
       "    <tr>\n",
       "      <th>0</th>\n",
       "      <td>1100575026</td>\n",
       "      <td>579612.631509</td>\n",
       "    </tr>\n",
       "    <tr>\n",
       "      <th>1</th>\n",
       "      <td>1100549428</td>\n",
       "      <td>601798.240206</td>\n",
       "    </tr>\n",
       "    <tr>\n",
       "      <th>2</th>\n",
       "      <td>1100658222</td>\n",
       "      <td>905494.359961</td>\n",
       "    </tr>\n",
       "    <tr>\n",
       "      <th>3</th>\n",
       "      <td>1100937408</td>\n",
       "      <td>579430.748288</td>\n",
       "    </tr>\n",
       "    <tr>\n",
       "      <th>4</th>\n",
       "      <td>1101037972</td>\n",
       "      <td>444791.510604</td>\n",
       "    </tr>\n",
       "    <tr>\n",
       "      <th>5</th>\n",
       "      <td>1100912634</td>\n",
       "      <td>911237.288542</td>\n",
       "    </tr>\n",
       "    <tr>\n",
       "      <th>6</th>\n",
       "      <td>1101228730</td>\n",
       "      <td>493077.807092</td>\n",
       "    </tr>\n",
       "    <tr>\n",
       "      <th>7</th>\n",
       "      <td>1100165896</td>\n",
       "      <td>412600.206543</td>\n",
       "    </tr>\n",
       "    <tr>\n",
       "      <th>8</th>\n",
       "      <td>1100768262</td>\n",
       "      <td>625537.749647</td>\n",
       "    </tr>\n",
       "    <tr>\n",
       "      <th>9</th>\n",
       "      <td>1101218501</td>\n",
       "      <td>502805.280510</td>\n",
       "    </tr>\n",
       "  </tbody>\n",
       "</table>\n",
       "</div>"
      ],
      "text/plain": [
       "      sell_id          price\n",
       "0  1100575026  579612.631509\n",
       "1  1100549428  601798.240206\n",
       "2  1100658222  905494.359961\n",
       "3  1100937408  579430.748288\n",
       "4  1101037972  444791.510604\n",
       "5  1100912634  911237.288542\n",
       "6  1101228730  493077.807092\n",
       "7  1100165896  412600.206543\n",
       "8  1100768262  625537.749647\n",
       "9  1101218501  502805.280510"
      ]
     },
     "execution_count": 65,
     "metadata": {},
     "output_type": "execute_result"
    }
   ],
   "source": [
    "sample_submission['price'] = y_sub\n",
    "sample_submission.to_csv(f'submission_2_v{VERSION}.csv', index=False)\n",
    "sample_submission.head(10)"
   ]
  },
  {
   "cell_type": "code",
   "execution_count": null,
   "metadata": {
    "papermill": {
     "duration": 0.082406,
     "end_time": "2021-07-25T16:43:06.956719",
     "exception": false,
     "start_time": "2021-07-25T16:43:06.874313",
     "status": "completed"
    },
    "tags": []
   },
   "outputs": [],
   "source": []
  },
  {
   "cell_type": "markdown",
   "metadata": {
    "papermill": {
     "duration": 0.080581,
     "end_time": "2021-07-25T16:43:07.119101",
     "exception": false,
     "start_time": "2021-07-25T16:43:07.038520",
     "status": "completed"
    },
    "tags": []
   },
   "source": [
    "## такой сабмит дает точность 34%. повышаем"
   ]
  },
  {
   "cell_type": "markdown",
   "metadata": {
    "papermill": {
     "duration": 0.080787,
     "end_time": "2021-07-25T16:43:07.282271",
     "exception": false,
     "start_time": "2021-07-25T16:43:07.201484",
     "status": "completed"
    },
    "tags": []
   },
   "source": [
    "для повышения  точности воспользуемся подсказкой из бэйзлайна и сделаем LR ассомблирующую модель на log(X's) /  на log(y) / \n",
    "ничего из опробованного не дало прирост результата."
   ]
  },
  {
   "cell_type": "code",
   "execution_count": 66,
   "metadata": {
    "execution": {
     "iopub.execute_input": "2021-07-25T16:43:07.450068Z",
     "iopub.status.busy": "2021-07-25T16:43:07.448913Z",
     "iopub.status.idle": "2021-07-25T16:43:07.452208Z",
     "shell.execute_reply": "2021-07-25T16:43:07.451613Z",
     "shell.execute_reply.started": "2021-07-25T16:21:46.839059Z"
    },
    "papermill": {
     "duration": 0.088765,
     "end_time": "2021-07-25T16:43:07.452353",
     "exception": false,
     "start_time": "2021-07-25T16:43:07.363588",
     "status": "completed"
    },
    "tags": []
   },
   "outputs": [],
   "source": [
    "#LR = LinearRegression( normalize=False, copy_X=True, n_jobs= -1 )"
   ]
  },
  {
   "cell_type": "code",
   "execution_count": 67,
   "metadata": {
    "execution": {
     "iopub.execute_input": "2021-07-25T16:43:07.622070Z",
     "iopub.status.busy": "2021-07-25T16:43:07.621126Z",
     "iopub.status.idle": "2021-07-25T16:43:07.623734Z",
     "shell.execute_reply": "2021-07-25T16:43:07.624213Z",
     "shell.execute_reply.started": "2021-07-25T16:22:03.430920Z"
    },
    "papermill": {
     "duration": 0.089138,
     "end_time": "2021-07-25T16:43:07.624387",
     "exception": false,
     "start_time": "2021-07-25T16:43:07.535249",
     "status": "completed"
    },
    "tags": []
   },
   "outputs": [],
   "source": [
    "#LR.fit(ans_tr_X , y_test)"
   ]
  },
  {
   "cell_type": "code",
   "execution_count": 68,
   "metadata": {
    "execution": {
     "iopub.execute_input": "2021-07-25T16:43:07.793381Z",
     "iopub.status.busy": "2021-07-25T16:43:07.792338Z",
     "iopub.status.idle": "2021-07-25T16:43:07.795753Z",
     "shell.execute_reply": "2021-07-25T16:43:07.795143Z",
     "shell.execute_reply.started": "2021-07-25T16:22:09.521048Z"
    },
    "papermill": {
     "duration": 0.089675,
     "end_time": "2021-07-25T16:43:07.795898",
     "exception": false,
     "start_time": "2021-07-25T16:43:07.706223",
     "status": "completed"
    },
    "tags": []
   },
   "outputs": [],
   "source": [
    "#y_sub = (LR.predict(ans_X))"
   ]
  },
  {
   "cell_type": "code",
   "execution_count": 69,
   "metadata": {
    "execution": {
     "iopub.execute_input": "2021-07-25T16:43:07.964281Z",
     "iopub.status.busy": "2021-07-25T16:43:07.963634Z",
     "iopub.status.idle": "2021-07-25T16:43:07.967052Z",
     "shell.execute_reply": "2021-07-25T16:43:07.967571Z",
     "shell.execute_reply.started": "2021-07-25T16:22:10.371240Z"
    },
    "papermill": {
     "duration": 0.088462,
     "end_time": "2021-07-25T16:43:07.967739",
     "exception": false,
     "start_time": "2021-07-25T16:43:07.879277",
     "status": "completed"
    },
    "tags": []
   },
   "outputs": [],
   "source": [
    "#sample_submission['price'] = y_sub\n",
    "#sample_submission.to_csv(f'submission_2_v{VERSION}.csv', index=False)\n",
    "# sample_submission.head(10)"
   ]
  },
  {
   "cell_type": "code",
   "execution_count": null,
   "metadata": {
    "papermill": {
     "duration": 0.08065,
     "end_time": "2021-07-25T16:43:08.129769",
     "exception": false,
     "start_time": "2021-07-25T16:43:08.049119",
     "status": "completed"
    },
    "tags": []
   },
   "outputs": [],
   "source": []
  }
 ],
 "metadata": {
  "kernelspec": {
   "display_name": "Python 3",
   "language": "python",
   "name": "python3"
  },
  "language_info": {
   "codemirror_mode": {
    "name": "ipython",
    "version": 3
   },
   "file_extension": ".py",
   "mimetype": "text/x-python",
   "name": "python",
   "nbconvert_exporter": "python",
   "pygments_lexer": "ipython3",
   "version": "3.8.3"
  },
  "papermill": {
   "default_parameters": {},
   "duration": 434.156989,
   "end_time": "2021-07-25T16:43:09.906854",
   "environment_variables": {},
   "exception": null,
   "input_path": "__notebook__.ipynb",
   "output_path": "__notebook__.ipynb",
   "parameters": {},
   "start_time": "2021-07-25T16:35:55.749865",
   "version": "2.3.3"
  }
 },
 "nbformat": 4,
 "nbformat_minor": 5
}
